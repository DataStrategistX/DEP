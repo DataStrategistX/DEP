{
 "cells": [
  {
   "cell_type": "code",
   "execution_count": 1,
   "id": "2acc70da",
   "metadata": {},
   "outputs": [],
   "source": [
    "import pandas as pd\n",
    "import numpy as np\n",
    "import matplotlib.pyplot as plt\n",
    "import seaborn as sns"
   ]
  },
  {
   "cell_type": "code",
   "execution_count": 2,
   "id": "e4ac61dc",
   "metadata": {},
   "outputs": [],
   "source": [
    "df = pd.read_csv('customer_segmentation.csv')"
   ]
  },
  {
   "cell_type": "code",
   "execution_count": 3,
   "id": "94dd36f7",
   "metadata": {},
   "outputs": [
    {
     "data": {
      "text/html": [
       "<div>\n",
       "<style scoped>\n",
       "    .dataframe tbody tr th:only-of-type {\n",
       "        vertical-align: middle;\n",
       "    }\n",
       "\n",
       "    .dataframe tbody tr th {\n",
       "        vertical-align: top;\n",
       "    }\n",
       "\n",
       "    .dataframe thead th {\n",
       "        text-align: right;\n",
       "    }\n",
       "</style>\n",
       "<table border=\"1\" class=\"dataframe\">\n",
       "  <thead>\n",
       "    <tr style=\"text-align: right;\">\n",
       "      <th></th>\n",
       "      <th>index</th>\n",
       "      <th>InvoiceNo</th>\n",
       "      <th>StockCode</th>\n",
       "      <th>Description</th>\n",
       "      <th>Quantity</th>\n",
       "      <th>InvoiceDate</th>\n",
       "      <th>UnitPrice</th>\n",
       "      <th>CustomerID</th>\n",
       "      <th>Country</th>\n",
       "    </tr>\n",
       "  </thead>\n",
       "  <tbody>\n",
       "    <tr>\n",
       "      <th>0</th>\n",
       "      <td>0</td>\n",
       "      <td>536365</td>\n",
       "      <td>85123A</td>\n",
       "      <td>WHITE HANGING HEART T-LIGHT HOLDER</td>\n",
       "      <td>6</td>\n",
       "      <td>12/1/2010 8:26</td>\n",
       "      <td>2.55</td>\n",
       "      <td>17850.0</td>\n",
       "      <td>United Kingdom</td>\n",
       "    </tr>\n",
       "    <tr>\n",
       "      <th>1</th>\n",
       "      <td>1</td>\n",
       "      <td>536365</td>\n",
       "      <td>71053</td>\n",
       "      <td>WHITE METAL LANTERN</td>\n",
       "      <td>6</td>\n",
       "      <td>12/1/2010 8:26</td>\n",
       "      <td>3.39</td>\n",
       "      <td>17850.0</td>\n",
       "      <td>United Kingdom</td>\n",
       "    </tr>\n",
       "    <tr>\n",
       "      <th>2</th>\n",
       "      <td>2</td>\n",
       "      <td>536365</td>\n",
       "      <td>84406B</td>\n",
       "      <td>CREAM CUPID HEARTS COAT HANGER</td>\n",
       "      <td>8</td>\n",
       "      <td>12/1/2010 8:26</td>\n",
       "      <td>2.75</td>\n",
       "      <td>17850.0</td>\n",
       "      <td>United Kingdom</td>\n",
       "    </tr>\n",
       "    <tr>\n",
       "      <th>3</th>\n",
       "      <td>3</td>\n",
       "      <td>536365</td>\n",
       "      <td>84029G</td>\n",
       "      <td>KNITTED UNION FLAG HOT WATER BOTTLE</td>\n",
       "      <td>6</td>\n",
       "      <td>12/1/2010 8:26</td>\n",
       "      <td>3.39</td>\n",
       "      <td>17850.0</td>\n",
       "      <td>United Kingdom</td>\n",
       "    </tr>\n",
       "    <tr>\n",
       "      <th>4</th>\n",
       "      <td>4</td>\n",
       "      <td>536365</td>\n",
       "      <td>84029E</td>\n",
       "      <td>RED WOOLLY HOTTIE WHITE HEART.</td>\n",
       "      <td>6</td>\n",
       "      <td>12/1/2010 8:26</td>\n",
       "      <td>3.39</td>\n",
       "      <td>17850.0</td>\n",
       "      <td>United Kingdom</td>\n",
       "    </tr>\n",
       "  </tbody>\n",
       "</table>\n",
       "</div>"
      ],
      "text/plain": [
       "   index InvoiceNo StockCode                          Description  Quantity  \\\n",
       "0      0    536365    85123A   WHITE HANGING HEART T-LIGHT HOLDER         6   \n",
       "1      1    536365     71053                  WHITE METAL LANTERN         6   \n",
       "2      2    536365    84406B       CREAM CUPID HEARTS COAT HANGER         8   \n",
       "3      3    536365    84029G  KNITTED UNION FLAG HOT WATER BOTTLE         6   \n",
       "4      4    536365    84029E       RED WOOLLY HOTTIE WHITE HEART.         6   \n",
       "\n",
       "      InvoiceDate  UnitPrice  CustomerID         Country  \n",
       "0  12/1/2010 8:26       2.55     17850.0  United Kingdom  \n",
       "1  12/1/2010 8:26       3.39     17850.0  United Kingdom  \n",
       "2  12/1/2010 8:26       2.75     17850.0  United Kingdom  \n",
       "3  12/1/2010 8:26       3.39     17850.0  United Kingdom  \n",
       "4  12/1/2010 8:26       3.39     17850.0  United Kingdom  "
      ]
     },
     "execution_count": 3,
     "metadata": {},
     "output_type": "execute_result"
    }
   ],
   "source": [
    "df.head()"
   ]
  },
  {
   "cell_type": "code",
   "execution_count": 4,
   "id": "d349d2f4",
   "metadata": {},
   "outputs": [
    {
     "data": {
      "text/plain": [
       "(541909, 9)"
      ]
     },
     "execution_count": 4,
     "metadata": {},
     "output_type": "execute_result"
    }
   ],
   "source": [
    "df.shape"
   ]
  },
  {
   "cell_type": "code",
   "execution_count": 5,
   "id": "bd61c90c",
   "metadata": {},
   "outputs": [
    {
     "data": {
      "text/plain": [
       "Index(['index', 'InvoiceNo', 'StockCode', 'Description', 'Quantity',\n",
       "       'InvoiceDate', 'UnitPrice', 'CustomerID', 'Country'],\n",
       "      dtype='object')"
      ]
     },
     "execution_count": 5,
     "metadata": {},
     "output_type": "execute_result"
    }
   ],
   "source": [
    "df.columns"
   ]
  },
  {
   "cell_type": "code",
   "execution_count": 6,
   "id": "449b308b",
   "metadata": {},
   "outputs": [
    {
     "data": {
      "text/plain": [
       "index            int64\n",
       "InvoiceNo       object\n",
       "StockCode       object\n",
       "Description     object\n",
       "Quantity         int64\n",
       "InvoiceDate     object\n",
       "UnitPrice      float64\n",
       "CustomerID     float64\n",
       "Country         object\n",
       "dtype: object"
      ]
     },
     "execution_count": 6,
     "metadata": {},
     "output_type": "execute_result"
    }
   ],
   "source": [
    "df.dtypes"
   ]
  },
  {
   "cell_type": "code",
   "execution_count": 7,
   "id": "3feb7c8e",
   "metadata": {},
   "outputs": [
    {
     "data": {
      "text/html": [
       "<div>\n",
       "<style scoped>\n",
       "    .dataframe tbody tr th:only-of-type {\n",
       "        vertical-align: middle;\n",
       "    }\n",
       "\n",
       "    .dataframe tbody tr th {\n",
       "        vertical-align: top;\n",
       "    }\n",
       "\n",
       "    .dataframe thead th {\n",
       "        text-align: right;\n",
       "    }\n",
       "</style>\n",
       "<table border=\"1\" class=\"dataframe\">\n",
       "  <thead>\n",
       "    <tr style=\"text-align: right;\">\n",
       "      <th></th>\n",
       "      <th>index</th>\n",
       "      <th>Quantity</th>\n",
       "      <th>UnitPrice</th>\n",
       "      <th>CustomerID</th>\n",
       "    </tr>\n",
       "  </thead>\n",
       "  <tbody>\n",
       "    <tr>\n",
       "      <th>count</th>\n",
       "      <td>541909.00000</td>\n",
       "      <td>541909.000000</td>\n",
       "      <td>541909.000000</td>\n",
       "      <td>406829.000000</td>\n",
       "    </tr>\n",
       "    <tr>\n",
       "      <th>mean</th>\n",
       "      <td>270954.00000</td>\n",
       "      <td>9.552250</td>\n",
       "      <td>4.611114</td>\n",
       "      <td>15287.690570</td>\n",
       "    </tr>\n",
       "    <tr>\n",
       "      <th>std</th>\n",
       "      <td>156435.79785</td>\n",
       "      <td>218.081158</td>\n",
       "      <td>96.759853</td>\n",
       "      <td>1713.600303</td>\n",
       "    </tr>\n",
       "    <tr>\n",
       "      <th>min</th>\n",
       "      <td>0.00000</td>\n",
       "      <td>-80995.000000</td>\n",
       "      <td>-11062.060000</td>\n",
       "      <td>12346.000000</td>\n",
       "    </tr>\n",
       "    <tr>\n",
       "      <th>25%</th>\n",
       "      <td>135477.00000</td>\n",
       "      <td>1.000000</td>\n",
       "      <td>1.250000</td>\n",
       "      <td>13953.000000</td>\n",
       "    </tr>\n",
       "    <tr>\n",
       "      <th>50%</th>\n",
       "      <td>270954.00000</td>\n",
       "      <td>3.000000</td>\n",
       "      <td>2.080000</td>\n",
       "      <td>15152.000000</td>\n",
       "    </tr>\n",
       "    <tr>\n",
       "      <th>75%</th>\n",
       "      <td>406431.00000</td>\n",
       "      <td>10.000000</td>\n",
       "      <td>4.130000</td>\n",
       "      <td>16791.000000</td>\n",
       "    </tr>\n",
       "    <tr>\n",
       "      <th>max</th>\n",
       "      <td>541908.00000</td>\n",
       "      <td>80995.000000</td>\n",
       "      <td>38970.000000</td>\n",
       "      <td>18287.000000</td>\n",
       "    </tr>\n",
       "  </tbody>\n",
       "</table>\n",
       "</div>"
      ],
      "text/plain": [
       "              index       Quantity      UnitPrice     CustomerID\n",
       "count  541909.00000  541909.000000  541909.000000  406829.000000\n",
       "mean   270954.00000       9.552250       4.611114   15287.690570\n",
       "std    156435.79785     218.081158      96.759853    1713.600303\n",
       "min         0.00000  -80995.000000  -11062.060000   12346.000000\n",
       "25%    135477.00000       1.000000       1.250000   13953.000000\n",
       "50%    270954.00000       3.000000       2.080000   15152.000000\n",
       "75%    406431.00000      10.000000       4.130000   16791.000000\n",
       "max    541908.00000   80995.000000   38970.000000   18287.000000"
      ]
     },
     "execution_count": 7,
     "metadata": {},
     "output_type": "execute_result"
    }
   ],
   "source": [
    "df.describe()"
   ]
  },
  {
   "cell_type": "code",
   "execution_count": 8,
   "id": "45c36c5e",
   "metadata": {},
   "outputs": [
    {
     "data": {
      "text/plain": [
       "index               0\n",
       "InvoiceNo           0\n",
       "StockCode           0\n",
       "Description      1454\n",
       "Quantity            0\n",
       "InvoiceDate         0\n",
       "UnitPrice           0\n",
       "CustomerID     135080\n",
       "Country             0\n",
       "dtype: int64"
      ]
     },
     "execution_count": 8,
     "metadata": {},
     "output_type": "execute_result"
    }
   ],
   "source": [
    "df.isnull().sum()"
   ]
  },
  {
   "cell_type": "code",
   "execution_count": 9,
   "id": "de1a56dd",
   "metadata": {},
   "outputs": [
    {
     "data": {
      "text/plain": [
       "622       536414\n",
       "1443      536544\n",
       "1444      536544\n",
       "1445      536544\n",
       "1446      536544\n",
       "           ...  \n",
       "541536    581498\n",
       "541537    581498\n",
       "541538    581498\n",
       "541539    581498\n",
       "541540    581498\n",
       "Name: InvoiceNo, Length: 135080, dtype: object"
      ]
     },
     "execution_count": 9,
     "metadata": {},
     "output_type": "execute_result"
    }
   ],
   "source": [
    "df[df['CustomerID'].isnull()]['InvoiceNo']"
   ]
  },
  {
   "cell_type": "code",
   "execution_count": 10,
   "id": "5ac28522",
   "metadata": {},
   "outputs": [],
   "source": [
    "df.dropna(inplace=True)"
   ]
  },
  {
   "cell_type": "code",
   "execution_count": 11,
   "id": "debeb895",
   "metadata": {},
   "outputs": [],
   "source": [
    "df.drop(columns=['Description'],inplace=True)\n",
    "df.drop(columns=['index'],inplace=True)"
   ]
  },
  {
   "cell_type": "code",
   "execution_count": 12,
   "id": "8ba862ef",
   "metadata": {},
   "outputs": [],
   "source": [
    "df.drop_duplicates(inplace=True)"
   ]
  },
  {
   "cell_type": "code",
   "execution_count": 13,
   "id": "25dd3d79",
   "metadata": {},
   "outputs": [
    {
     "data": {
      "text/plain": [
       "(401602, 7)"
      ]
     },
     "execution_count": 13,
     "metadata": {},
     "output_type": "execute_result"
    }
   ],
   "source": [
    "df.shape"
   ]
  },
  {
   "cell_type": "code",
   "execution_count": 14,
   "id": "2a53ef8c",
   "metadata": {},
   "outputs": [
    {
     "data": {
      "text/plain": [
       "InvoiceNo       object\n",
       "StockCode       object\n",
       "Quantity         int64\n",
       "InvoiceDate     object\n",
       "UnitPrice      float64\n",
       "CustomerID      object\n",
       "Country         object\n",
       "dtype: object"
      ]
     },
     "execution_count": 14,
     "metadata": {},
     "output_type": "execute_result"
    }
   ],
   "source": [
    "df['CustomerID'] = df['CustomerID'].astype(str)\n",
    "df.dtypes"
   ]
  },
  {
   "cell_type": "code",
   "execution_count": 15,
   "id": "7f32da67",
   "metadata": {},
   "outputs": [
    {
     "data": {
      "text/plain": [
       "array(['12/1/2010 8:26', '12/1/2010 8:28', '12/1/2010 8:34', ...,\n",
       "       '12/9/2011 12:31', '12/9/2011 12:49', '12/9/2011 12:50'],\n",
       "      dtype=object)"
      ]
     },
     "execution_count": 15,
     "metadata": {},
     "output_type": "execute_result"
    }
   ],
   "source": [
    "df['InvoiceDate'].unique()"
   ]
  },
  {
   "cell_type": "code",
   "execution_count": 16,
   "id": "68a40079",
   "metadata": {},
   "outputs": [
    {
     "data": {
      "text/plain": [
       "<DatetimeArray>\n",
       "['2010-12-01 08:26:00', '2010-12-01 08:28:00', '2010-12-01 08:34:00',\n",
       " '2010-12-01 08:35:00', '2010-12-01 08:45:00', '2010-12-01 09:00:00',\n",
       " '2010-12-01 09:01:00', '2010-12-01 09:02:00', '2010-12-01 09:09:00',\n",
       " '2010-12-01 09:32:00',\n",
       " ...\n",
       " '2011-12-09 12:09:00', '2011-12-09 12:16:00', '2011-12-09 12:19:00',\n",
       " '2011-12-09 12:20:00', '2011-12-09 12:21:00', '2011-12-09 12:23:00',\n",
       " '2011-12-09 12:25:00', '2011-12-09 12:31:00', '2011-12-09 12:49:00',\n",
       " '2011-12-09 12:50:00']\n",
       "Length: 20460, dtype: datetime64[ns]"
      ]
     },
     "execution_count": 16,
     "metadata": {},
     "output_type": "execute_result"
    }
   ],
   "source": [
    "df['InvoiceDate'] = pd.to_datetime(df['InvoiceDate'], format='%m/%d/%Y %H:%M')\n",
    "df['InvoiceDate'].unique()"
   ]
  },
  {
   "cell_type": "code",
   "execution_count": 17,
   "id": "8bc93d26",
   "metadata": {},
   "outputs": [
    {
     "data": {
      "text/html": [
       "<div>\n",
       "<style scoped>\n",
       "    .dataframe tbody tr th:only-of-type {\n",
       "        vertical-align: middle;\n",
       "    }\n",
       "\n",
       "    .dataframe tbody tr th {\n",
       "        vertical-align: top;\n",
       "    }\n",
       "\n",
       "    .dataframe thead th {\n",
       "        text-align: right;\n",
       "    }\n",
       "</style>\n",
       "<table border=\"1\" class=\"dataframe\">\n",
       "  <thead>\n",
       "    <tr style=\"text-align: right;\">\n",
       "      <th></th>\n",
       "      <th>InvoiceNo</th>\n",
       "      <th>StockCode</th>\n",
       "      <th>Quantity</th>\n",
       "      <th>InvoiceDate</th>\n",
       "      <th>UnitPrice</th>\n",
       "      <th>CustomerID</th>\n",
       "      <th>Country</th>\n",
       "      <th>YearMonth</th>\n",
       "    </tr>\n",
       "  </thead>\n",
       "  <tbody>\n",
       "    <tr>\n",
       "      <th>0</th>\n",
       "      <td>536365</td>\n",
       "      <td>85123A</td>\n",
       "      <td>6</td>\n",
       "      <td>2010-12-01 08:26:00</td>\n",
       "      <td>2.55</td>\n",
       "      <td>17850.0</td>\n",
       "      <td>United Kingdom</td>\n",
       "      <td>2010-12</td>\n",
       "    </tr>\n",
       "    <tr>\n",
       "      <th>1</th>\n",
       "      <td>536365</td>\n",
       "      <td>71053</td>\n",
       "      <td>6</td>\n",
       "      <td>2010-12-01 08:26:00</td>\n",
       "      <td>3.39</td>\n",
       "      <td>17850.0</td>\n",
       "      <td>United Kingdom</td>\n",
       "      <td>2010-12</td>\n",
       "    </tr>\n",
       "    <tr>\n",
       "      <th>2</th>\n",
       "      <td>536365</td>\n",
       "      <td>84406B</td>\n",
       "      <td>8</td>\n",
       "      <td>2010-12-01 08:26:00</td>\n",
       "      <td>2.75</td>\n",
       "      <td>17850.0</td>\n",
       "      <td>United Kingdom</td>\n",
       "      <td>2010-12</td>\n",
       "    </tr>\n",
       "    <tr>\n",
       "      <th>3</th>\n",
       "      <td>536365</td>\n",
       "      <td>84029G</td>\n",
       "      <td>6</td>\n",
       "      <td>2010-12-01 08:26:00</td>\n",
       "      <td>3.39</td>\n",
       "      <td>17850.0</td>\n",
       "      <td>United Kingdom</td>\n",
       "      <td>2010-12</td>\n",
       "    </tr>\n",
       "    <tr>\n",
       "      <th>4</th>\n",
       "      <td>536365</td>\n",
       "      <td>84029E</td>\n",
       "      <td>6</td>\n",
       "      <td>2010-12-01 08:26:00</td>\n",
       "      <td>3.39</td>\n",
       "      <td>17850.0</td>\n",
       "      <td>United Kingdom</td>\n",
       "      <td>2010-12</td>\n",
       "    </tr>\n",
       "  </tbody>\n",
       "</table>\n",
       "</div>"
      ],
      "text/plain": [
       "  InvoiceNo StockCode  Quantity         InvoiceDate  UnitPrice CustomerID  \\\n",
       "0    536365    85123A         6 2010-12-01 08:26:00       2.55    17850.0   \n",
       "1    536365     71053         6 2010-12-01 08:26:00       3.39    17850.0   \n",
       "2    536365    84406B         8 2010-12-01 08:26:00       2.75    17850.0   \n",
       "3    536365    84029G         6 2010-12-01 08:26:00       3.39    17850.0   \n",
       "4    536365    84029E         6 2010-12-01 08:26:00       3.39    17850.0   \n",
       "\n",
       "          Country YearMonth  \n",
       "0  United Kingdom   2010-12  \n",
       "1  United Kingdom   2010-12  \n",
       "2  United Kingdom   2010-12  \n",
       "3  United Kingdom   2010-12  \n",
       "4  United Kingdom   2010-12  "
      ]
     },
     "execution_count": 17,
     "metadata": {},
     "output_type": "execute_result"
    }
   ],
   "source": [
    "df['YearMonth'] = df['InvoiceDate'].dt.to_period('M')\n",
    "df.head()"
   ]
  },
  {
   "cell_type": "code",
   "execution_count": 18,
   "id": "2f04a322",
   "metadata": {},
   "outputs": [],
   "source": [
    "unique_customers_per_month = df.drop_duplicates(subset=['YearMonth', 'CustomerID']).groupby('YearMonth').size()"
   ]
  },
  {
   "cell_type": "code",
   "execution_count": 19,
   "id": "7048fa14",
   "metadata": {},
   "outputs": [
    {
     "data": {
      "text/plain": [
       "Text(0.5, 1.0, 'Number of Active Customers per Month')"
      ]
     },
     "execution_count": 19,
     "metadata": {},
     "output_type": "execute_result"
    },
    {
     "data": {
      "image/png": "[encoded data removed]",
      "text/plain": [
       "<Figure size 1000x500 with 1 Axes>"
      ]
     },
     "metadata": {},
     "output_type": "display_data"
    }
   ],
   "source": [
    "plt.figure(figsize=(10,5))\n",
    "sns.barplot(y = unique_customers_per_month.index, x =unique_customers_per_month.values);\n",
    "plt.xlabel('Count of Customers')\n",
    "plt.title('Number of Active Customers per Month')"
   ]
  },
  {
   "cell_type": "code",
   "execution_count": null,
   "id": "7ff6eb53",
   "metadata": {},
   "outputs": [],
   "source": []
  },
  {
   "cell_type": "code",
   "execution_count": 20,
   "id": "dcd4b438",
   "metadata": {},
   "outputs": [],
   "source": [
    " df['total_spent'] = df['Quantity']*df['UnitPrice']"
   ]
  },
  {
   "cell_type": "code",
   "execution_count": 21,
   "id": "61d753a6",
   "metadata": {},
   "outputs": [
    {
     "data": {
      "text/plain": [
       "Index(['InvoiceNo', 'StockCode', 'Quantity', 'InvoiceDate', 'UnitPrice',\n",
       "       'CustomerID', 'Country', 'YearMonth', 'total_spent'],\n",
       "      dtype='object')"
      ]
     },
     "execution_count": 21,
     "metadata": {},
     "output_type": "execute_result"
    }
   ],
   "source": [
    "df.columns"
   ]
  },
  {
   "cell_type": "code",
   "execution_count": 22,
   "id": "0f55cd87",
   "metadata": {},
   "outputs": [
    {
     "data": {
      "text/html": [
       "<div>\n",
       "<style scoped>\n",
       "    .dataframe tbody tr th:only-of-type {\n",
       "        vertical-align: middle;\n",
       "    }\n",
       "\n",
       "    .dataframe tbody tr th {\n",
       "        vertical-align: top;\n",
       "    }\n",
       "\n",
       "    .dataframe thead th {\n",
       "        text-align: right;\n",
       "    }\n",
       "</style>\n",
       "<table border=\"1\" class=\"dataframe\">\n",
       "  <thead>\n",
       "    <tr style=\"text-align: right;\">\n",
       "      <th></th>\n",
       "      <th>CustomerID</th>\n",
       "      <th>total_spent</th>\n",
       "    </tr>\n",
       "  </thead>\n",
       "  <tbody>\n",
       "    <tr>\n",
       "      <th>0</th>\n",
       "      <td>12346.0</td>\n",
       "      <td>0.00</td>\n",
       "    </tr>\n",
       "    <tr>\n",
       "      <th>1</th>\n",
       "      <td>12347.0</td>\n",
       "      <td>4310.00</td>\n",
       "    </tr>\n",
       "    <tr>\n",
       "      <th>2</th>\n",
       "      <td>12348.0</td>\n",
       "      <td>1797.24</td>\n",
       "    </tr>\n",
       "    <tr>\n",
       "      <th>3</th>\n",
       "      <td>12349.0</td>\n",
       "      <td>1757.55</td>\n",
       "    </tr>\n",
       "    <tr>\n",
       "      <th>4</th>\n",
       "      <td>12350.0</td>\n",
       "      <td>334.40</td>\n",
       "    </tr>\n",
       "    <tr>\n",
       "      <th>...</th>\n",
       "      <td>...</td>\n",
       "      <td>...</td>\n",
       "    </tr>\n",
       "    <tr>\n",
       "      <th>4367</th>\n",
       "      <td>18280.0</td>\n",
       "      <td>180.60</td>\n",
       "    </tr>\n",
       "    <tr>\n",
       "      <th>4368</th>\n",
       "      <td>18281.0</td>\n",
       "      <td>80.82</td>\n",
       "    </tr>\n",
       "    <tr>\n",
       "      <th>4369</th>\n",
       "      <td>18282.0</td>\n",
       "      <td>176.60</td>\n",
       "    </tr>\n",
       "    <tr>\n",
       "      <th>4370</th>\n",
       "      <td>18283.0</td>\n",
       "      <td>2045.53</td>\n",
       "    </tr>\n",
       "    <tr>\n",
       "      <th>4371</th>\n",
       "      <td>18287.0</td>\n",
       "      <td>1837.28</td>\n",
       "    </tr>\n",
       "  </tbody>\n",
       "</table>\n",
       "<p>4372 rows × 2 columns</p>\n",
       "</div>"
      ],
      "text/plain": [
       "     CustomerID  total_spent\n",
       "0       12346.0         0.00\n",
       "1       12347.0      4310.00\n",
       "2       12348.0      1797.24\n",
       "3       12349.0      1757.55\n",
       "4       12350.0       334.40\n",
       "...         ...          ...\n",
       "4367    18280.0       180.60\n",
       "4368    18281.0        80.82\n",
       "4369    18282.0       176.60\n",
       "4370    18283.0      2045.53\n",
       "4371    18287.0      1837.28\n",
       "\n",
       "[4372 rows x 2 columns]"
      ]
     },
     "execution_count": 22,
     "metadata": {},
     "output_type": "execute_result"
    }
   ],
   "source": [
    "grouped = df.groupby('CustomerID').sum(numeric_only=True)\n",
    "\n",
    "customer_spending = grouped[['total_spent']].reset_index()\n",
    "\n",
    "customer_spending"
   ]
  },
  {
   "cell_type": "code",
   "execution_count": 23,
   "id": "1cd16c34",
   "metadata": {},
   "outputs": [
    {
     "data": {
      "text/html": [
       "<div>\n",
       "<style scoped>\n",
       "    .dataframe tbody tr th:only-of-type {\n",
       "        vertical-align: middle;\n",
       "    }\n",
       "\n",
       "    .dataframe tbody tr th {\n",
       "        vertical-align: top;\n",
       "    }\n",
       "\n",
       "    .dataframe thead th {\n",
       "        text-align: right;\n",
       "    }\n",
       "</style>\n",
       "<table border=\"1\" class=\"dataframe\">\n",
       "  <thead>\n",
       "    <tr style=\"text-align: right;\">\n",
       "      <th></th>\n",
       "      <th>CustomerID</th>\n",
       "      <th>InvoiceNo</th>\n",
       "    </tr>\n",
       "  </thead>\n",
       "  <tbody>\n",
       "    <tr>\n",
       "      <th>0</th>\n",
       "      <td>12346.0</td>\n",
       "      <td>2</td>\n",
       "    </tr>\n",
       "    <tr>\n",
       "      <th>1</th>\n",
       "      <td>12347.0</td>\n",
       "      <td>7</td>\n",
       "    </tr>\n",
       "    <tr>\n",
       "      <th>2</th>\n",
       "      <td>12348.0</td>\n",
       "      <td>4</td>\n",
       "    </tr>\n",
       "    <tr>\n",
       "      <th>3</th>\n",
       "      <td>12349.0</td>\n",
       "      <td>1</td>\n",
       "    </tr>\n",
       "    <tr>\n",
       "      <th>4</th>\n",
       "      <td>12350.0</td>\n",
       "      <td>1</td>\n",
       "    </tr>\n",
       "    <tr>\n",
       "      <th>...</th>\n",
       "      <td>...</td>\n",
       "      <td>...</td>\n",
       "    </tr>\n",
       "    <tr>\n",
       "      <th>4367</th>\n",
       "      <td>18280.0</td>\n",
       "      <td>1</td>\n",
       "    </tr>\n",
       "    <tr>\n",
       "      <th>4368</th>\n",
       "      <td>18281.0</td>\n",
       "      <td>1</td>\n",
       "    </tr>\n",
       "    <tr>\n",
       "      <th>4369</th>\n",
       "      <td>18282.0</td>\n",
       "      <td>3</td>\n",
       "    </tr>\n",
       "    <tr>\n",
       "      <th>4370</th>\n",
       "      <td>18283.0</td>\n",
       "      <td>16</td>\n",
       "    </tr>\n",
       "    <tr>\n",
       "      <th>4371</th>\n",
       "      <td>18287.0</td>\n",
       "      <td>3</td>\n",
       "    </tr>\n",
       "  </tbody>\n",
       "</table>\n",
       "<p>4372 rows × 2 columns</p>\n",
       "</div>"
      ],
      "text/plain": [
       "     CustomerID  InvoiceNo\n",
       "0       12346.0          2\n",
       "1       12347.0          7\n",
       "2       12348.0          4\n",
       "3       12349.0          1\n",
       "4       12350.0          1\n",
       "...         ...        ...\n",
       "4367    18280.0          1\n",
       "4368    18281.0          1\n",
       "4369    18282.0          3\n",
       "4370    18283.0         16\n",
       "4371    18287.0          3\n",
       "\n",
       "[4372 rows x 2 columns]"
      ]
     },
     "execution_count": 23,
     "metadata": {},
     "output_type": "execute_result"
    }
   ],
   "source": [
    "df_frequency = df.groupby('CustomerID').nunique()['InvoiceNo'].reset_index()\n",
    "df_frequency"
   ]
  },
  {
   "cell_type": "code",
   "execution_count": 24,
   "id": "52cd3d72",
   "metadata": {},
   "outputs": [
    {
     "data": {
      "text/html": [
       "<div>\n",
       "<style scoped>\n",
       "    .dataframe tbody tr th:only-of-type {\n",
       "        vertical-align: middle;\n",
       "    }\n",
       "\n",
       "    .dataframe tbody tr th {\n",
       "        vertical-align: top;\n",
       "    }\n",
       "\n",
       "    .dataframe thead th {\n",
       "        text-align: right;\n",
       "    }\n",
       "</style>\n",
       "<table border=\"1\" class=\"dataframe\">\n",
       "  <thead>\n",
       "    <tr style=\"text-align: right;\">\n",
       "      <th></th>\n",
       "      <th>InvoiceNo</th>\n",
       "      <th>StockCode</th>\n",
       "      <th>Quantity</th>\n",
       "      <th>InvoiceDate</th>\n",
       "      <th>UnitPrice</th>\n",
       "      <th>CustomerID</th>\n",
       "      <th>Country</th>\n",
       "      <th>YearMonth</th>\n",
       "      <th>total_spent</th>\n",
       "      <th>days_since_order</th>\n",
       "    </tr>\n",
       "  </thead>\n",
       "  <tbody>\n",
       "    <tr>\n",
       "      <th>0</th>\n",
       "      <td>536365</td>\n",
       "      <td>85123A</td>\n",
       "      <td>6</td>\n",
       "      <td>2010-12-01 08:26:00</td>\n",
       "      <td>2.55</td>\n",
       "      <td>17850.0</td>\n",
       "      <td>United Kingdom</td>\n",
       "      <td>2010-12</td>\n",
       "      <td>15.30</td>\n",
       "      <td>374</td>\n",
       "    </tr>\n",
       "    <tr>\n",
       "      <th>1</th>\n",
       "      <td>536365</td>\n",
       "      <td>71053</td>\n",
       "      <td>6</td>\n",
       "      <td>2010-12-01 08:26:00</td>\n",
       "      <td>3.39</td>\n",
       "      <td>17850.0</td>\n",
       "      <td>United Kingdom</td>\n",
       "      <td>2010-12</td>\n",
       "      <td>20.34</td>\n",
       "      <td>374</td>\n",
       "    </tr>\n",
       "    <tr>\n",
       "      <th>2</th>\n",
       "      <td>536365</td>\n",
       "      <td>84406B</td>\n",
       "      <td>8</td>\n",
       "      <td>2010-12-01 08:26:00</td>\n",
       "      <td>2.75</td>\n",
       "      <td>17850.0</td>\n",
       "      <td>United Kingdom</td>\n",
       "      <td>2010-12</td>\n",
       "      <td>22.00</td>\n",
       "      <td>374</td>\n",
       "    </tr>\n",
       "    <tr>\n",
       "      <th>3</th>\n",
       "      <td>536365</td>\n",
       "      <td>84029G</td>\n",
       "      <td>6</td>\n",
       "      <td>2010-12-01 08:26:00</td>\n",
       "      <td>3.39</td>\n",
       "      <td>17850.0</td>\n",
       "      <td>United Kingdom</td>\n",
       "      <td>2010-12</td>\n",
       "      <td>20.34</td>\n",
       "      <td>374</td>\n",
       "    </tr>\n",
       "    <tr>\n",
       "      <th>4</th>\n",
       "      <td>536365</td>\n",
       "      <td>84029E</td>\n",
       "      <td>6</td>\n",
       "      <td>2010-12-01 08:26:00</td>\n",
       "      <td>3.39</td>\n",
       "      <td>17850.0</td>\n",
       "      <td>United Kingdom</td>\n",
       "      <td>2010-12</td>\n",
       "      <td>20.34</td>\n",
       "      <td>374</td>\n",
       "    </tr>\n",
       "  </tbody>\n",
       "</table>\n",
       "</div>"
      ],
      "text/plain": [
       "  InvoiceNo StockCode  Quantity         InvoiceDate  UnitPrice CustomerID  \\\n",
       "0    536365    85123A         6 2010-12-01 08:26:00       2.55    17850.0   \n",
       "1    536365     71053         6 2010-12-01 08:26:00       3.39    17850.0   \n",
       "2    536365    84406B         8 2010-12-01 08:26:00       2.75    17850.0   \n",
       "3    536365    84029G         6 2010-12-01 08:26:00       3.39    17850.0   \n",
       "4    536365    84029E         6 2010-12-01 08:26:00       3.39    17850.0   \n",
       "\n",
       "          Country YearMonth  total_spent  days_since_order  \n",
       "0  United Kingdom   2010-12        15.30               374  \n",
       "1  United Kingdom   2010-12        20.34               374  \n",
       "2  United Kingdom   2010-12        22.00               374  \n",
       "3  United Kingdom   2010-12        20.34               374  \n",
       "4  United Kingdom   2010-12        20.34               374  "
      ]
     },
     "execution_count": 24,
     "metadata": {},
     "output_type": "execute_result"
    }
   ],
   "source": [
    "latest_order_date = df['InvoiceDate'].max() + pd.Timedelta(days=1)\n",
    "df['days_since_order'] = (latest_order_date - df['InvoiceDate']).dt.days\n",
    "df.head()\n"
   ]
  },
  {
   "cell_type": "code",
   "execution_count": 25,
   "id": "53272471",
   "metadata": {},
   "outputs": [
    {
     "data": {
      "text/html": [
       "<div>\n",
       "<style scoped>\n",
       "    .dataframe tbody tr th:only-of-type {\n",
       "        vertical-align: middle;\n",
       "    }\n",
       "\n",
       "    .dataframe tbody tr th {\n",
       "        vertical-align: top;\n",
       "    }\n",
       "\n",
       "    .dataframe thead th {\n",
       "        text-align: right;\n",
       "    }\n",
       "</style>\n",
       "<table border=\"1\" class=\"dataframe\">\n",
       "  <thead>\n",
       "    <tr style=\"text-align: right;\">\n",
       "      <th></th>\n",
       "      <th>CustomerID</th>\n",
       "      <th>days_since_order</th>\n",
       "    </tr>\n",
       "  </thead>\n",
       "  <tbody>\n",
       "    <tr>\n",
       "      <th>0</th>\n",
       "      <td>12346.0</td>\n",
       "      <td>326</td>\n",
       "    </tr>\n",
       "    <tr>\n",
       "      <th>1</th>\n",
       "      <td>12347.0</td>\n",
       "      <td>2</td>\n",
       "    </tr>\n",
       "    <tr>\n",
       "      <th>2</th>\n",
       "      <td>12348.0</td>\n",
       "      <td>75</td>\n",
       "    </tr>\n",
       "    <tr>\n",
       "      <th>3</th>\n",
       "      <td>12349.0</td>\n",
       "      <td>19</td>\n",
       "    </tr>\n",
       "    <tr>\n",
       "      <th>4</th>\n",
       "      <td>12350.0</td>\n",
       "      <td>310</td>\n",
       "    </tr>\n",
       "    <tr>\n",
       "      <th>...</th>\n",
       "      <td>...</td>\n",
       "      <td>...</td>\n",
       "    </tr>\n",
       "    <tr>\n",
       "      <th>4367</th>\n",
       "      <td>18280.0</td>\n",
       "      <td>278</td>\n",
       "    </tr>\n",
       "    <tr>\n",
       "      <th>4368</th>\n",
       "      <td>18281.0</td>\n",
       "      <td>181</td>\n",
       "    </tr>\n",
       "    <tr>\n",
       "      <th>4369</th>\n",
       "      <td>18282.0</td>\n",
       "      <td>8</td>\n",
       "    </tr>\n",
       "    <tr>\n",
       "      <th>4370</th>\n",
       "      <td>18283.0</td>\n",
       "      <td>4</td>\n",
       "    </tr>\n",
       "    <tr>\n",
       "      <th>4371</th>\n",
       "      <td>18287.0</td>\n",
       "      <td>43</td>\n",
       "    </tr>\n",
       "  </tbody>\n",
       "</table>\n",
       "<p>4372 rows × 2 columns</p>\n",
       "</div>"
      ],
      "text/plain": [
       "     CustomerID  days_since_order\n",
       "0       12346.0               326\n",
       "1       12347.0                 2\n",
       "2       12348.0                75\n",
       "3       12349.0                19\n",
       "4       12350.0               310\n",
       "...         ...               ...\n",
       "4367    18280.0               278\n",
       "4368    18281.0               181\n",
       "4369    18282.0                 8\n",
       "4370    18283.0                 4\n",
       "4371    18287.0                43\n",
       "\n",
       "[4372 rows x 2 columns]"
      ]
     },
     "execution_count": 25,
     "metadata": {},
     "output_type": "execute_result"
    }
   ],
   "source": [
    "customer_recency = df.groupby('CustomerID')['days_since_order'].min().reset_index()\n",
    "customer_recency"
   ]
  },
  {
   "cell_type": "code",
   "execution_count": null,
   "id": "17dbac69",
   "metadata": {},
   "outputs": [],
   "source": []
  },
  {
   "cell_type": "code",
   "execution_count": 26,
   "id": "6f6f87f3",
   "metadata": {},
   "outputs": [],
   "source": [
    "rf_metrics = pd.merge(customer_recency, df_frequency, on='CustomerID', how='inner')\n",
    "rfm_metrics = pd.merge(rf_metrics, customer_spending, on='CustomerID', how='inner')"
   ]
  },
  {
   "cell_type": "code",
   "execution_count": 27,
   "id": "ecf16ff6",
   "metadata": {},
   "outputs": [
    {
     "data": {
      "text/html": [
       "<div>\n",
       "<style scoped>\n",
       "    .dataframe tbody tr th:only-of-type {\n",
       "        vertical-align: middle;\n",
       "    }\n",
       "\n",
       "    .dataframe tbody tr th {\n",
       "        vertical-align: top;\n",
       "    }\n",
       "\n",
       "    .dataframe thead th {\n",
       "        text-align: right;\n",
       "    }\n",
       "</style>\n",
       "<table border=\"1\" class=\"dataframe\">\n",
       "  <thead>\n",
       "    <tr style=\"text-align: right;\">\n",
       "      <th></th>\n",
       "      <th>CustomerID</th>\n",
       "      <th>Recency</th>\n",
       "      <th>Frequency</th>\n",
       "      <th>Monetary</th>\n",
       "    </tr>\n",
       "  </thead>\n",
       "  <tbody>\n",
       "    <tr>\n",
       "      <th>0</th>\n",
       "      <td>12346.0</td>\n",
       "      <td>326</td>\n",
       "      <td>2</td>\n",
       "      <td>0.00</td>\n",
       "    </tr>\n",
       "    <tr>\n",
       "      <th>1</th>\n",
       "      <td>12347.0</td>\n",
       "      <td>2</td>\n",
       "      <td>7</td>\n",
       "      <td>4310.00</td>\n",
       "    </tr>\n",
       "    <tr>\n",
       "      <th>2</th>\n",
       "      <td>12348.0</td>\n",
       "      <td>75</td>\n",
       "      <td>4</td>\n",
       "      <td>1797.24</td>\n",
       "    </tr>\n",
       "    <tr>\n",
       "      <th>3</th>\n",
       "      <td>12349.0</td>\n",
       "      <td>19</td>\n",
       "      <td>1</td>\n",
       "      <td>1757.55</td>\n",
       "    </tr>\n",
       "    <tr>\n",
       "      <th>4</th>\n",
       "      <td>12350.0</td>\n",
       "      <td>310</td>\n",
       "      <td>1</td>\n",
       "      <td>334.40</td>\n",
       "    </tr>\n",
       "    <tr>\n",
       "      <th>...</th>\n",
       "      <td>...</td>\n",
       "      <td>...</td>\n",
       "      <td>...</td>\n",
       "      <td>...</td>\n",
       "    </tr>\n",
       "    <tr>\n",
       "      <th>4367</th>\n",
       "      <td>18280.0</td>\n",
       "      <td>278</td>\n",
       "      <td>1</td>\n",
       "      <td>180.60</td>\n",
       "    </tr>\n",
       "    <tr>\n",
       "      <th>4368</th>\n",
       "      <td>18281.0</td>\n",
       "      <td>181</td>\n",
       "      <td>1</td>\n",
       "      <td>80.82</td>\n",
       "    </tr>\n",
       "    <tr>\n",
       "      <th>4369</th>\n",
       "      <td>18282.0</td>\n",
       "      <td>8</td>\n",
       "      <td>3</td>\n",
       "      <td>176.60</td>\n",
       "    </tr>\n",
       "    <tr>\n",
       "      <th>4370</th>\n",
       "      <td>18283.0</td>\n",
       "      <td>4</td>\n",
       "      <td>16</td>\n",
       "      <td>2045.53</td>\n",
       "    </tr>\n",
       "    <tr>\n",
       "      <th>4371</th>\n",
       "      <td>18287.0</td>\n",
       "      <td>43</td>\n",
       "      <td>3</td>\n",
       "      <td>1837.28</td>\n",
       "    </tr>\n",
       "  </tbody>\n",
       "</table>\n",
       "<p>4372 rows × 4 columns</p>\n",
       "</div>"
      ],
      "text/plain": [
       "     CustomerID  Recency  Frequency  Monetary\n",
       "0       12346.0      326          2      0.00\n",
       "1       12347.0        2          7   4310.00\n",
       "2       12348.0       75          4   1797.24\n",
       "3       12349.0       19          1   1757.55\n",
       "4       12350.0      310          1    334.40\n",
       "...         ...      ...        ...       ...\n",
       "4367    18280.0      278          1    180.60\n",
       "4368    18281.0      181          1     80.82\n",
       "4369    18282.0        8          3    176.60\n",
       "4370    18283.0        4         16   2045.53\n",
       "4371    18287.0       43          3   1837.28\n",
       "\n",
       "[4372 rows x 4 columns]"
      ]
     },
     "execution_count": 27,
     "metadata": {},
     "output_type": "execute_result"
    }
   ],
   "source": [
    "rfm_metrics.columns = ['CustomerID', 'Recency', 'Frequency', 'Monetary']\n",
    "rfm_metrics"
   ]
  },
  {
   "cell_type": "code",
   "execution_count": 28,
   "id": "c233d785",
   "metadata": {},
   "outputs": [
    {
     "data": {
      "text/plain": [
       "recency_segment\n",
       "newest    2734\n",
       "newer      588\n",
       "medium     416\n",
       "older      353\n",
       "oldest     281\n",
       "Name: count, dtype: int64"
      ]
     },
     "execution_count": 28,
     "metadata": {},
     "output_type": "execute_result"
    },
    {
     "data": {
      "image/png": "[encoded data removed]",
      "text/plain": [
       "<Figure size 640x480 with 1 Axes>"
      ]
     },
     "metadata": {},
     "output_type": "display_data"
    }
   ],
   "source": [
    "rfm_metrics['recency_segment'] = pd.cut(rfm_metrics['Recency'], bins=5,\n",
    "                                        labels=['newest', 'newer', 'medium', 'older', 'oldest'])\n",
    "palette = sns.color_palette(\"viridis\", as_cmap=True)\n",
    "\n",
    "rfm_metrics['recency_segment'].value_counts().plot(kind='barh', color=palette(range(5)))\n",
    "\n",
    "plt.xlabel('Count')\n",
    "plt.ylabel('Recency Segment')\n",
    "plt.title('Distribution of Recency Segments')\n",
    "rfm_metrics['recency_segment'].value_counts()"
   ]
  },
  {
   "cell_type": "code",
   "execution_count": null,
   "id": "dcad7d77",
   "metadata": {},
   "outputs": [],
   "source": []
  },
  {
   "cell_type": "code",
   "execution_count": 29,
   "id": "941673b4",
   "metadata": {},
   "outputs": [
    {
     "data": {
      "text/plain": [
       "frequency_segment\n",
       "lowest     4348\n",
       "lower        18\n",
       "medium        3\n",
       "highest       2\n",
       "higher        1\n",
       "Name: count, dtype: int64"
      ]
     },
     "execution_count": 29,
     "metadata": {},
     "output_type": "execute_result"
    },
    {
     "data": {
      "image/png": "[encoded data removed]",
      "text/plain": [
       "<Figure size 640x480 with 1 Axes>"
      ]
     },
     "metadata": {},
     "output_type": "display_data"
    }
   ],
   "source": [
    "# Assign labels based on frequency bins\n",
    "rfm_metrics['frequency_segment'] = pd.cut(rfm_metrics['Frequency'], bins=5,\n",
    "                                          labels=['lowest', 'lower', 'medium', 'higher', 'highest'])\n",
    "\n",
    "palette = sns.color_palette(\"plasma\", as_cmap=True)\n",
    "rfm_metrics['frequency_segment'].value_counts().plot(kind='barh', color=palette(range(5)))\n",
    "plt.xlabel('Count')\n",
    "plt.ylabel('Frequency Segment')\n",
    "plt.title('Distribution of Frequency Segments')\n",
    "\n",
    "rfm_metrics['frequency_segment'].value_counts()\n"
   ]
  },
  {
   "cell_type": "code",
   "execution_count": 30,
   "id": "15a18e12",
   "metadata": {},
   "outputs": [
    {
     "data": {
      "text/plain": [
       "monetary_segment\n",
       "smallest    4357\n",
       "smaller        9\n",
       "medium         3\n",
       "largest        2\n",
       "larger         1\n",
       "Name: count, dtype: int64"
      ]
     },
     "execution_count": 30,
     "metadata": {},
     "output_type": "execute_result"
    },
    {
     "data": {
      "image/png": "[encoded data removed]",
      "text/plain": [
       "<Figure size 640x480 with 1 Axes>"
      ]
     },
     "metadata": {},
     "output_type": "display_data"
    }
   ],
   "source": [
    "rfm_metrics['monetary_segment'] = pd.cut(rfm_metrics['Monetary'], bins=5,\n",
    "                                         labels=['smallest', 'smaller', 'medium', 'larger', 'largest'])\n",
    "rfm_metrics['monetary_segment'].value_counts().plot(kind='barh')\n",
    "rfm_metrics['monetary_segment'].value_counts()\n"
   ]
  },
  {
   "cell_type": "code",
   "execution_count": 31,
   "id": "45dfa360",
   "metadata": {},
   "outputs": [
    {
     "data": {
      "text/html": [
       "<div>\n",
       "<style scoped>\n",
       "    .dataframe tbody tr th:only-of-type {\n",
       "        vertical-align: middle;\n",
       "    }\n",
       "\n",
       "    .dataframe tbody tr th {\n",
       "        vertical-align: top;\n",
       "    }\n",
       "\n",
       "    .dataframe thead th {\n",
       "        text-align: right;\n",
       "    }\n",
       "</style>\n",
       "<table border=\"1\" class=\"dataframe\">\n",
       "  <thead>\n",
       "    <tr style=\"text-align: right;\">\n",
       "      <th></th>\n",
       "      <th>CustomerID</th>\n",
       "      <th>Recency</th>\n",
       "      <th>Frequency</th>\n",
       "      <th>Monetary</th>\n",
       "      <th>recency_segment</th>\n",
       "      <th>frequency_segment</th>\n",
       "      <th>monetary_segment</th>\n",
       "      <th>rfm_segment</th>\n",
       "    </tr>\n",
       "  </thead>\n",
       "  <tbody>\n",
       "    <tr>\n",
       "      <th>0</th>\n",
       "      <td>12346.0</td>\n",
       "      <td>326</td>\n",
       "      <td>2</td>\n",
       "      <td>0.00</td>\n",
       "      <td>oldest</td>\n",
       "      <td>lowest</td>\n",
       "      <td>smallest</td>\n",
       "      <td>oldest-lowest-smallest</td>\n",
       "    </tr>\n",
       "    <tr>\n",
       "      <th>1</th>\n",
       "      <td>12347.0</td>\n",
       "      <td>2</td>\n",
       "      <td>7</td>\n",
       "      <td>4310.00</td>\n",
       "      <td>newest</td>\n",
       "      <td>lowest</td>\n",
       "      <td>smallest</td>\n",
       "      <td>newest-lowest-smallest</td>\n",
       "    </tr>\n",
       "    <tr>\n",
       "      <th>2</th>\n",
       "      <td>12348.0</td>\n",
       "      <td>75</td>\n",
       "      <td>4</td>\n",
       "      <td>1797.24</td>\n",
       "      <td>newest</td>\n",
       "      <td>lowest</td>\n",
       "      <td>smallest</td>\n",
       "      <td>newest-lowest-smallest</td>\n",
       "    </tr>\n",
       "    <tr>\n",
       "      <th>3</th>\n",
       "      <td>12349.0</td>\n",
       "      <td>19</td>\n",
       "      <td>1</td>\n",
       "      <td>1757.55</td>\n",
       "      <td>newest</td>\n",
       "      <td>lowest</td>\n",
       "      <td>smallest</td>\n",
       "      <td>newest-lowest-smallest</td>\n",
       "    </tr>\n",
       "    <tr>\n",
       "      <th>4</th>\n",
       "      <td>12350.0</td>\n",
       "      <td>310</td>\n",
       "      <td>1</td>\n",
       "      <td>334.40</td>\n",
       "      <td>oldest</td>\n",
       "      <td>lowest</td>\n",
       "      <td>smallest</td>\n",
       "      <td>oldest-lowest-smallest</td>\n",
       "    </tr>\n",
       "    <tr>\n",
       "      <th>...</th>\n",
       "      <td>...</td>\n",
       "      <td>...</td>\n",
       "      <td>...</td>\n",
       "      <td>...</td>\n",
       "      <td>...</td>\n",
       "      <td>...</td>\n",
       "      <td>...</td>\n",
       "      <td>...</td>\n",
       "    </tr>\n",
       "    <tr>\n",
       "      <th>4367</th>\n",
       "      <td>18280.0</td>\n",
       "      <td>278</td>\n",
       "      <td>1</td>\n",
       "      <td>180.60</td>\n",
       "      <td>older</td>\n",
       "      <td>lowest</td>\n",
       "      <td>smallest</td>\n",
       "      <td>older-lowest-smallest</td>\n",
       "    </tr>\n",
       "    <tr>\n",
       "      <th>4368</th>\n",
       "      <td>18281.0</td>\n",
       "      <td>181</td>\n",
       "      <td>1</td>\n",
       "      <td>80.82</td>\n",
       "      <td>medium</td>\n",
       "      <td>lowest</td>\n",
       "      <td>smallest</td>\n",
       "      <td>medium-lowest-smallest</td>\n",
       "    </tr>\n",
       "    <tr>\n",
       "      <th>4369</th>\n",
       "      <td>18282.0</td>\n",
       "      <td>8</td>\n",
       "      <td>3</td>\n",
       "      <td>176.60</td>\n",
       "      <td>newest</td>\n",
       "      <td>lowest</td>\n",
       "      <td>smallest</td>\n",
       "      <td>newest-lowest-smallest</td>\n",
       "    </tr>\n",
       "    <tr>\n",
       "      <th>4370</th>\n",
       "      <td>18283.0</td>\n",
       "      <td>4</td>\n",
       "      <td>16</td>\n",
       "      <td>2045.53</td>\n",
       "      <td>newest</td>\n",
       "      <td>lowest</td>\n",
       "      <td>smallest</td>\n",
       "      <td>newest-lowest-smallest</td>\n",
       "    </tr>\n",
       "    <tr>\n",
       "      <th>4371</th>\n",
       "      <td>18287.0</td>\n",
       "      <td>43</td>\n",
       "      <td>3</td>\n",
       "      <td>1837.28</td>\n",
       "      <td>newest</td>\n",
       "      <td>lowest</td>\n",
       "      <td>smallest</td>\n",
       "      <td>newest-lowest-smallest</td>\n",
       "    </tr>\n",
       "  </tbody>\n",
       "</table>\n",
       "<p>4372 rows × 8 columns</p>\n",
       "</div>"
      ],
      "text/plain": [
       "     CustomerID  Recency  Frequency  Monetary recency_segment  \\\n",
       "0       12346.0      326          2      0.00          oldest   \n",
       "1       12347.0        2          7   4310.00          newest   \n",
       "2       12348.0       75          4   1797.24          newest   \n",
       "3       12349.0       19          1   1757.55          newest   \n",
       "4       12350.0      310          1    334.40          oldest   \n",
       "...         ...      ...        ...       ...             ...   \n",
       "4367    18280.0      278          1    180.60           older   \n",
       "4368    18281.0      181          1     80.82          medium   \n",
       "4369    18282.0        8          3    176.60          newest   \n",
       "4370    18283.0        4         16   2045.53          newest   \n",
       "4371    18287.0       43          3   1837.28          newest   \n",
       "\n",
       "     frequency_segment monetary_segment             rfm_segment  \n",
       "0               lowest         smallest  oldest-lowest-smallest  \n",
       "1               lowest         smallest  newest-lowest-smallest  \n",
       "2               lowest         smallest  newest-lowest-smallest  \n",
       "3               lowest         smallest  newest-lowest-smallest  \n",
       "4               lowest         smallest  oldest-lowest-smallest  \n",
       "...                ...              ...                     ...  \n",
       "4367            lowest         smallest   older-lowest-smallest  \n",
       "4368            lowest         smallest  medium-lowest-smallest  \n",
       "4369            lowest         smallest  newest-lowest-smallest  \n",
       "4370            lowest         smallest  newest-lowest-smallest  \n",
       "4371            lowest         smallest  newest-lowest-smallest  \n",
       "\n",
       "[4372 rows x 8 columns]"
      ]
     },
     "execution_count": 31,
     "metadata": {},
     "output_type": "execute_result"
    }
   ],
   "source": [
    "rfm_metrics['rfm_segment'] = rfm_metrics[['recency_segment','frequency_segment','monetary_segment']].agg('-'.join, axis=1)\n",
    "rfm_metrics"
   ]
  },
  {
   "cell_type": "code",
   "execution_count": 32,
   "id": "52684d09",
   "metadata": {},
   "outputs": [
    {
     "data": {
      "text/html": [
       "<div>\n",
       "<style scoped>\n",
       "    .dataframe tbody tr th:only-of-type {\n",
       "        vertical-align: middle;\n",
       "    }\n",
       "\n",
       "    .dataframe tbody tr th {\n",
       "        vertical-align: top;\n",
       "    }\n",
       "\n",
       "    .dataframe thead th {\n",
       "        text-align: right;\n",
       "    }\n",
       "</style>\n",
       "<table border=\"1\" class=\"dataframe\">\n",
       "  <thead>\n",
       "    <tr style=\"text-align: right;\">\n",
       "      <th></th>\n",
       "      <th>CustomerID</th>\n",
       "      <th>Recency</th>\n",
       "      <th>Frequency</th>\n",
       "      <th>Monetary</th>\n",
       "      <th>recency_segment</th>\n",
       "      <th>frequency_segment</th>\n",
       "      <th>monetary_segment</th>\n",
       "      <th>rfm_segment</th>\n",
       "      <th>rfm_score</th>\n",
       "    </tr>\n",
       "  </thead>\n",
       "  <tbody>\n",
       "    <tr>\n",
       "      <th>0</th>\n",
       "      <td>12346.0</td>\n",
       "      <td>326</td>\n",
       "      <td>2</td>\n",
       "      <td>0.00</td>\n",
       "      <td>oldest</td>\n",
       "      <td>lowest</td>\n",
       "      <td>smallest</td>\n",
       "      <td>oldest-lowest-smallest</td>\n",
       "      <td>3.0</td>\n",
       "    </tr>\n",
       "    <tr>\n",
       "      <th>1</th>\n",
       "      <td>12347.0</td>\n",
       "      <td>2</td>\n",
       "      <td>7</td>\n",
       "      <td>4310.00</td>\n",
       "      <td>newest</td>\n",
       "      <td>lowest</td>\n",
       "      <td>smallest</td>\n",
       "      <td>newest-lowest-smallest</td>\n",
       "      <td>7.0</td>\n",
       "    </tr>\n",
       "    <tr>\n",
       "      <th>2</th>\n",
       "      <td>12348.0</td>\n",
       "      <td>75</td>\n",
       "      <td>4</td>\n",
       "      <td>1797.24</td>\n",
       "      <td>newest</td>\n",
       "      <td>lowest</td>\n",
       "      <td>smallest</td>\n",
       "      <td>newest-lowest-smallest</td>\n",
       "      <td>7.0</td>\n",
       "    </tr>\n",
       "    <tr>\n",
       "      <th>3</th>\n",
       "      <td>12349.0</td>\n",
       "      <td>19</td>\n",
       "      <td>1</td>\n",
       "      <td>1757.55</td>\n",
       "      <td>newest</td>\n",
       "      <td>lowest</td>\n",
       "      <td>smallest</td>\n",
       "      <td>newest-lowest-smallest</td>\n",
       "      <td>7.0</td>\n",
       "    </tr>\n",
       "    <tr>\n",
       "      <th>4</th>\n",
       "      <td>12350.0</td>\n",
       "      <td>310</td>\n",
       "      <td>1</td>\n",
       "      <td>334.40</td>\n",
       "      <td>oldest</td>\n",
       "      <td>lowest</td>\n",
       "      <td>smallest</td>\n",
       "      <td>oldest-lowest-smallest</td>\n",
       "      <td>3.0</td>\n",
       "    </tr>\n",
       "    <tr>\n",
       "      <th>5</th>\n",
       "      <td>12352.0</td>\n",
       "      <td>36</td>\n",
       "      <td>11</td>\n",
       "      <td>1545.41</td>\n",
       "      <td>newest</td>\n",
       "      <td>lowest</td>\n",
       "      <td>smallest</td>\n",
       "      <td>newest-lowest-smallest</td>\n",
       "      <td>7.0</td>\n",
       "    </tr>\n",
       "    <tr>\n",
       "      <th>6</th>\n",
       "      <td>12353.0</td>\n",
       "      <td>204</td>\n",
       "      <td>1</td>\n",
       "      <td>89.00</td>\n",
       "      <td>medium</td>\n",
       "      <td>lowest</td>\n",
       "      <td>smallest</td>\n",
       "      <td>medium-lowest-smallest</td>\n",
       "      <td>5.0</td>\n",
       "    </tr>\n",
       "    <tr>\n",
       "      <th>7</th>\n",
       "      <td>12354.0</td>\n",
       "      <td>232</td>\n",
       "      <td>1</td>\n",
       "      <td>1079.40</td>\n",
       "      <td>older</td>\n",
       "      <td>lowest</td>\n",
       "      <td>smallest</td>\n",
       "      <td>older-lowest-smallest</td>\n",
       "      <td>4.0</td>\n",
       "    </tr>\n",
       "    <tr>\n",
       "      <th>8</th>\n",
       "      <td>12355.0</td>\n",
       "      <td>214</td>\n",
       "      <td>1</td>\n",
       "      <td>459.40</td>\n",
       "      <td>medium</td>\n",
       "      <td>lowest</td>\n",
       "      <td>smallest</td>\n",
       "      <td>medium-lowest-smallest</td>\n",
       "      <td>5.0</td>\n",
       "    </tr>\n",
       "    <tr>\n",
       "      <th>9</th>\n",
       "      <td>12356.0</td>\n",
       "      <td>23</td>\n",
       "      <td>3</td>\n",
       "      <td>2811.43</td>\n",
       "      <td>newest</td>\n",
       "      <td>lowest</td>\n",
       "      <td>smallest</td>\n",
       "      <td>newest-lowest-smallest</td>\n",
       "      <td>7.0</td>\n",
       "    </tr>\n",
       "  </tbody>\n",
       "</table>\n",
       "</div>"
      ],
      "text/plain": [
       "  CustomerID  Recency  Frequency  Monetary recency_segment frequency_segment  \\\n",
       "0    12346.0      326          2      0.00          oldest            lowest   \n",
       "1    12347.0        2          7   4310.00          newest            lowest   \n",
       "2    12348.0       75          4   1797.24          newest            lowest   \n",
       "3    12349.0       19          1   1757.55          newest            lowest   \n",
       "4    12350.0      310          1    334.40          oldest            lowest   \n",
       "5    12352.0       36         11   1545.41          newest            lowest   \n",
       "6    12353.0      204          1     89.00          medium            lowest   \n",
       "7    12354.0      232          1   1079.40           older            lowest   \n",
       "8    12355.0      214          1    459.40          medium            lowest   \n",
       "9    12356.0       23          3   2811.43          newest            lowest   \n",
       "\n",
       "  monetary_segment             rfm_segment  rfm_score  \n",
       "0         smallest  oldest-lowest-smallest        3.0  \n",
       "1         smallest  newest-lowest-smallest        7.0  \n",
       "2         smallest  newest-lowest-smallest        7.0  \n",
       "3         smallest  newest-lowest-smallest        7.0  \n",
       "4         smallest  oldest-lowest-smallest        3.0  \n",
       "5         smallest  newest-lowest-smallest        7.0  \n",
       "6         smallest  medium-lowest-smallest        5.0  \n",
       "7         smallest   older-lowest-smallest        4.0  \n",
       "8         smallest  medium-lowest-smallest        5.0  \n",
       "9         smallest  newest-lowest-smallest        7.0  "
      ]
     },
     "execution_count": 32,
     "metadata": {},
     "output_type": "execute_result"
    }
   ],
   "source": [
    "# Define dictionaries for mapping labels to scores\n",
    "recency_dict = {'newest': 5, 'newer': 4, 'medium': 3, 'older': 2, 'oldest': 1}\n",
    "frequency_dict = {'lowest': 1, 'lower': 2, 'medium': 3, 'higher': 4, 'highest': 5}\n",
    "monetary_dict = {'smallest': 1, 'smaller': 2, 'medium': 3, 'larger': 4, 'largest': 5}\n",
    "\n",
    "# Ensure columns are mapped to numeric values\n",
    "recency_scores = rfm_metrics['recency_segment'].map(recency_dict).astype(float)\n",
    "frequency_scores = rfm_metrics['frequency_segment'].map(frequency_dict).astype(float)\n",
    "monetary_scores = rfm_metrics['monetary_segment'].map(monetary_dict).astype(float)\n",
    "\n",
    "# Calculate the RFM score\n",
    "rfm_metrics['rfm_score'] = recency_scores + frequency_scores + monetary_scores\n",
    "\n",
    "# Display the DataFrame\n",
    "rfm_metrics.head(10)\n"
   ]
  },
  {
   "cell_type": "code",
   "execution_count": 33,
   "id": "168d36d2",
   "metadata": {},
   "outputs": [
    {
     "data": {
      "text/plain": [
       "Text(0.5, 1.0, 'Distribution of RFM Segments')"
      ]
     },
     "execution_count": 33,
     "metadata": {},
     "output_type": "execute_result"
    },
    {
     "data": {
      "image/png": "[encoded data removed]",
      "text/plain": [
       "<Figure size 1000x500 with 1 Axes>"
      ]
     },
     "metadata": {},
     "output_type": "display_data"
    }
   ],
   "source": [
    "plt.figure(figsize=(10, 5))\n",
    "ax = rfm_metrics['rfm_segment'].value_counts().plot(kind='barh', color=plt.cm.viridis_r(range(len(rfm_metrics['rfm_segment'].value_counts()))))\n",
    "plt.xlabel('Count')\n",
    "plt.ylabel('RFM Segment')\n",
    "plt.title('Distribution of RFM Segments')\n"
   ]
  },
  {
   "cell_type": "code",
   "execution_count": null,
   "id": "c8342ea7",
   "metadata": {},
   "outputs": [],
   "source": []
  },
  {
   "cell_type": "code",
   "execution_count": null,
   "id": "8e09ed93",
   "metadata": {},
   "outputs": [],
   "source": []
  },
  {
   "cell_type": "markdown",
   "id": "1a4914fe",
   "metadata": {},
   "source": [
    "# CREATING MODEL"
   ]
  },
  {
   "cell_type": "code",
   "execution_count": 34,
   "id": "eeb0cbbe",
   "metadata": {},
   "outputs": [
    {
     "data": {
      "text/plain": [
       "(4372, 9)"
      ]
     },
     "execution_count": 34,
     "metadata": {},
     "output_type": "execute_result"
    }
   ],
   "source": [
    "rfm_metrics.shape"
   ]
  },
  {
   "cell_type": "code",
   "execution_count": 35,
   "id": "97c42546",
   "metadata": {},
   "outputs": [],
   "source": [
    "rfm_metrics = rfm_metrics[(rfm_metrics['Frequency']<60) & (rfm_metrics['Monetary']<40000)]"
   ]
  },
  {
   "cell_type": "code",
   "execution_count": 36,
   "id": "548b4e63",
   "metadata": {},
   "outputs": [
    {
     "data": {
      "text/plain": [
       "(4346, 9)"
      ]
     },
     "execution_count": 36,
     "metadata": {},
     "output_type": "execute_result"
    }
   ],
   "source": [
    "rfm_metrics.shape"
   ]
  },
  {
   "cell_type": "code",
   "execution_count": 37,
   "id": "eadc4a6f",
   "metadata": {},
   "outputs": [
    {
     "data": {
      "image/png": "[encoded data removed]",
      "text/plain": [
       "<Figure size 1200x600 with 6 Axes>"
      ]
     },
     "metadata": {},
     "output_type": "display_data"
    }
   ],
   "source": [
    "plt.figure(figsize=(12,6))\n",
    "\n",
    "for i, feature in enumerate(['Recency', 'Frequency', 'Monetary']):\n",
    "    plt.subplot(2,3,i+1)\n",
    "    rfm_metrics[feature].plot(kind='box')\n",
    "    plt.subplot(2,3,i+1+3)\n",
    "    rfm_metrics[feature].plot(kind='hist')"
   ]
  },
  {
   "cell_type": "code",
   "execution_count": 38,
   "id": "acab22a4",
   "metadata": {},
   "outputs": [],
   "source": [
    "df_rfm_transformed = pd.DataFrame()\n",
    "df_rfm_transformed['Recency'] = np.log(rfm_metrics['Recency'])\n",
    "df_rfm_transformed['Frequency'] = np.log(rfm_metrics['Frequency'])\n",
    "df_rfm_transformed['Monetary'] = np.log(rfm_metrics['Monetary']-rfm_metrics['Monetary'].min()+1)"
   ]
  },
  {
   "cell_type": "code",
   "execution_count": 39,
   "id": "4e7a0842",
   "metadata": {},
   "outputs": [],
   "source": [
    "from sklearn.preprocessing import StandardScaler\n",
    "scaler = StandardScaler()"
   ]
  },
  {
   "cell_type": "code",
   "execution_count": 40,
   "id": "93c475e4",
   "metadata": {},
   "outputs": [
    {
     "data": {
      "text/html": [
       "<div>\n",
       "<style scoped>\n",
       "    .dataframe tbody tr th:only-of-type {\n",
       "        vertical-align: middle;\n",
       "    }\n",
       "\n",
       "    .dataframe tbody tr th {\n",
       "        vertical-align: top;\n",
       "    }\n",
       "\n",
       "    .dataframe thead th {\n",
       "        text-align: right;\n",
       "    }\n",
       "</style>\n",
       "<table border=\"1\" class=\"dataframe\">\n",
       "  <thead>\n",
       "    <tr style=\"text-align: right;\">\n",
       "      <th></th>\n",
       "      <th>Recency</th>\n",
       "      <th>Frequency</th>\n",
       "      <th>Monetary</th>\n",
       "    </tr>\n",
       "  </thead>\n",
       "  <tbody>\n",
       "    <tr>\n",
       "      <th>0</th>\n",
       "      <td>1.402988</td>\n",
       "      <td>-0.388507</td>\n",
       "      <td>-0.770922</td>\n",
       "    </tr>\n",
       "    <tr>\n",
       "      <th>1</th>\n",
       "      <td>-2.100874</td>\n",
       "      <td>0.967301</td>\n",
       "      <td>1.485132</td>\n",
       "    </tr>\n",
       "    <tr>\n",
       "      <th>2</th>\n",
       "      <td>0.392218</td>\n",
       "      <td>0.361655</td>\n",
       "      <td>0.364190</td>\n",
       "    </tr>\n",
       "    <tr>\n",
       "      <th>3</th>\n",
       "      <td>-0.552268</td>\n",
       "      <td>-1.138669</td>\n",
       "      <td>0.342970</td>\n",
       "    </tr>\n",
       "    <tr>\n",
       "      <th>4</th>\n",
       "      <td>1.368370</td>\n",
       "      <td>-1.138669</td>\n",
       "      <td>-0.527416</td>\n",
       "    </tr>\n",
       "  </tbody>\n",
       "</table>\n",
       "</div>"
      ],
      "text/plain": [
       "    Recency  Frequency  Monetary\n",
       "0  1.402988  -0.388507 -0.770922\n",
       "1 -2.100874   0.967301  1.485132\n",
       "2  0.392218   0.361655  0.364190\n",
       "3 -0.552268  -1.138669  0.342970\n",
       "4  1.368370  -1.138669 -0.527416"
      ]
     },
     "execution_count": 40,
     "metadata": {},
     "output_type": "execute_result"
    }
   ],
   "source": [
    "df_rfm_scaled_array = scaler.fit_transform(df_rfm_transformed[['Recency', 'Frequency', 'Monetary']])\n",
    "df_rfm_scaled = pd.DataFrame(df_rfm_scaled_array, columns=['Recency', 'Frequency', 'Monetary'])\n",
    "df_rfm_scaled.head()"
   ]
  },
  {
   "cell_type": "code",
   "execution_count": null,
   "id": "2d02c859",
   "metadata": {},
   "outputs": [],
   "source": []
  },
  {
   "cell_type": "code",
   "execution_count": 41,
   "id": "874e730d",
   "metadata": {},
   "outputs": [
    {
     "name": "stderr",
     "output_type": "stream",
     "text": [
      "E:\\Anaconda\\Lib\\site-packages\\sklearn\\cluster\\_kmeans.py:1412: FutureWarning: The default value of `n_init` will change from 10 to 'auto' in 1.4. Set the value of `n_init` explicitly to suppress the warning\n",
      "  super()._check_params_vs_input(X, default_n_init=10)\n"
     ]
    },
    {
     "data": {
      "text/html": [
       "<style>#sk-container-id-1 {color: black;}#sk-container-id-1 pre{padding: 0;}#sk-container-id-1 div.sk-toggleable {background-color: white;}#sk-container-id-1 label.sk-toggleable__label {cursor: pointer;display: block;width: 100%;margin-bottom: 0;padding: 0.3em;box-sizing: border-box;text-align: center;}#sk-container-id-1 label.sk-toggleable__label-arrow:before {content: \"▸\";float: left;margin-right: 0.25em;color: #696969;}#sk-container-id-1 label.sk-toggleable__label-arrow:hover:before {color: black;}#sk-container-id-1 div.sk-estimator:hover label.sk-toggleable__label-arrow:before {color: black;}#sk-container-id-1 div.sk-toggleable__content {max-height: 0;max-width: 0;overflow: hidden;text-align: left;background-color: #f0f8ff;}#sk-container-id-1 div.sk-toggleable__content pre {margin: 0.2em;color: black;border-radius: 0.25em;background-color: #f0f8ff;}#sk-container-id-1 input.sk-toggleable__control:checked~div.sk-toggleable__content {max-height: 200px;max-width: 100%;overflow: auto;}#sk-container-id-1 input.sk-toggleable__control:checked~label.sk-toggleable__label-arrow:before {content: \"▾\";}#sk-container-id-1 div.sk-estimator input.sk-toggleable__control:checked~label.sk-toggleable__label {background-color: #d4ebff;}#sk-container-id-1 div.sk-label input.sk-toggleable__control:checked~label.sk-toggleable__label {background-color: #d4ebff;}#sk-container-id-1 input.sk-hidden--visually {border: 0;clip: rect(1px 1px 1px 1px);clip: rect(1px, 1px, 1px, 1px);height: 1px;margin: -1px;overflow: hidden;padding: 0;position: absolute;width: 1px;}#sk-container-id-1 div.sk-estimator {font-family: monospace;background-color: #f0f8ff;border: 1px dotted black;border-radius: 0.25em;box-sizing: border-box;margin-bottom: 0.5em;}#sk-container-id-1 div.sk-estimator:hover {background-color: #d4ebff;}#sk-container-id-1 div.sk-parallel-item::after {content: \"\";width: 100%;border-bottom: 1px solid gray;flex-grow: 1;}#sk-container-id-1 div.sk-label:hover label.sk-toggleable__label {background-color: #d4ebff;}#sk-container-id-1 div.sk-serial::before {content: \"\";position: absolute;border-left: 1px solid gray;box-sizing: border-box;top: 0;bottom: 0;left: 50%;z-index: 0;}#sk-container-id-1 div.sk-serial {display: flex;flex-direction: column;align-items: center;background-color: white;padding-right: 0.2em;padding-left: 0.2em;position: relative;}#sk-container-id-1 div.sk-item {position: relative;z-index: 1;}#sk-container-id-1 div.sk-parallel {display: flex;align-items: stretch;justify-content: center;background-color: white;position: relative;}#sk-container-id-1 div.sk-item::before, #sk-container-id-1 div.sk-parallel-item::before {content: \"\";position: absolute;border-left: 1px solid gray;box-sizing: border-box;top: 0;bottom: 0;left: 50%;z-index: -1;}#sk-container-id-1 div.sk-parallel-item {display: flex;flex-direction: column;z-index: 1;position: relative;background-color: white;}#sk-container-id-1 div.sk-parallel-item:first-child::after {align-self: flex-end;width: 50%;}#sk-container-id-1 div.sk-parallel-item:last-child::after {align-self: flex-start;width: 50%;}#sk-container-id-1 div.sk-parallel-item:only-child::after {width: 0;}#sk-container-id-1 div.sk-dashed-wrapped {border: 1px dashed gray;margin: 0 0.4em 0.5em 0.4em;box-sizing: border-box;padding-bottom: 0.4em;background-color: white;}#sk-container-id-1 div.sk-label label {font-family: monospace;font-weight: bold;display: inline-block;line-height: 1.2em;}#sk-container-id-1 div.sk-label-container {text-align: center;}#sk-container-id-1 div.sk-container {/* jupyter's `normalize.less` sets `[hidden] { display: none; }` but bootstrap.min.css set `[hidden] { display: none !important; }` so we also need the `!important` here to be able to override the default hidden behavior on the sphinx rendered scikit-learn.org. See: https://github.com/scikit-learn/scikit-learn/issues/21755 */display: inline-block !important;position: relative;}#sk-container-id-1 div.sk-text-repr-fallback {display: none;}</style><div id=\"sk-container-id-1\" class=\"sk-top-container\"><div class=\"sk-text-repr-fallback\"><pre>KMeans(max_iter=50, n_clusters=3)</pre><b>In a Jupyter environment, please rerun this cell to show the HTML representation or trust the notebook. <br />On GitHub, the HTML representation is unable to render, please try loading this page with nbviewer.org.</b></div><div class=\"sk-container\" hidden><div class=\"sk-item\"><div class=\"sk-estimator sk-toggleable\"><input class=\"sk-toggleable__control sk-hidden--visually\" id=\"sk-estimator-id-1\" type=\"checkbox\" checked><label for=\"sk-estimator-id-1\" class=\"sk-toggleable__label sk-toggleable__label-arrow\">KMeans</label><div class=\"sk-toggleable__content\"><pre>KMeans(max_iter=50, n_clusters=3)</pre></div></div></div></div></div>"
      ],
      "text/plain": [
       "KMeans(max_iter=50, n_clusters=3)"
      ]
     },
     "execution_count": 41,
     "metadata": {},
     "output_type": "execute_result"
    }
   ],
   "source": [
    "from sklearn.cluster import KMeans\n",
    "kmeans = KMeans(n_clusters=3, max_iter=50)\n",
    "kmeans.fit(df_rfm_scaled)\n"
   ]
  },
  {
   "cell_type": "code",
   "execution_count": 42,
   "id": "f7c0a26e",
   "metadata": {},
   "outputs": [
    {
     "name": "stderr",
     "output_type": "stream",
     "text": [
      "E:\\Anaconda\\Lib\\site-packages\\sklearn\\cluster\\_kmeans.py:1412: FutureWarning: The default value of `n_init` will change from 10 to 'auto' in 1.4. Set the value of `n_init` explicitly to suppress the warning\n",
      "  super()._check_params_vs_input(X, default_n_init=10)\n",
      "E:\\Anaconda\\Lib\\site-packages\\sklearn\\cluster\\_kmeans.py:1412: FutureWarning: The default value of `n_init` will change from 10 to 'auto' in 1.4. Set the value of `n_init` explicitly to suppress the warning\n",
      "  super()._check_params_vs_input(X, default_n_init=10)\n",
      "E:\\Anaconda\\Lib\\site-packages\\sklearn\\cluster\\_kmeans.py:1412: FutureWarning: The default value of `n_init` will change from 10 to 'auto' in 1.4. Set the value of `n_init` explicitly to suppress the warning\n",
      "  super()._check_params_vs_input(X, default_n_init=10)\n",
      "E:\\Anaconda\\Lib\\site-packages\\sklearn\\cluster\\_kmeans.py:1412: FutureWarning: The default value of `n_init` will change from 10 to 'auto' in 1.4. Set the value of `n_init` explicitly to suppress the warning\n",
      "  super()._check_params_vs_input(X, default_n_init=10)\n",
      "E:\\Anaconda\\Lib\\site-packages\\sklearn\\cluster\\_kmeans.py:1412: FutureWarning: The default value of `n_init` will change from 10 to 'auto' in 1.4. Set the value of `n_init` explicitly to suppress the warning\n",
      "  super()._check_params_vs_input(X, default_n_init=10)\n",
      "E:\\Anaconda\\Lib\\site-packages\\sklearn\\cluster\\_kmeans.py:1412: FutureWarning: The default value of `n_init` will change from 10 to 'auto' in 1.4. Set the value of `n_init` explicitly to suppress the warning\n",
      "  super()._check_params_vs_input(X, default_n_init=10)\n",
      "E:\\Anaconda\\Lib\\site-packages\\sklearn\\cluster\\_kmeans.py:1412: FutureWarning: The default value of `n_init` will change from 10 to 'auto' in 1.4. Set the value of `n_init` explicitly to suppress the warning\n",
      "  super()._check_params_vs_input(X, default_n_init=10)\n",
      "E:\\Anaconda\\Lib\\site-packages\\sklearn\\cluster\\_kmeans.py:1412: FutureWarning: The default value of `n_init` will change from 10 to 'auto' in 1.4. Set the value of `n_init` explicitly to suppress the warning\n",
      "  super()._check_params_vs_input(X, default_n_init=10)\n",
      "E:\\Anaconda\\Lib\\site-packages\\sklearn\\cluster\\_kmeans.py:1412: FutureWarning: The default value of `n_init` will change from 10 to 'auto' in 1.4. Set the value of `n_init` explicitly to suppress the warning\n",
      "  super()._check_params_vs_input(X, default_n_init=10)\n",
      "E:\\Anaconda\\Lib\\site-packages\\sklearn\\cluster\\_kmeans.py:1412: FutureWarning: The default value of `n_init` will change from 10 to 'auto' in 1.4. Set the value of `n_init` explicitly to suppress the warning\n",
      "  super()._check_params_vs_input(X, default_n_init=10)\n",
      "E:\\Anaconda\\Lib\\site-packages\\sklearn\\cluster\\_kmeans.py:1412: FutureWarning: The default value of `n_init` will change from 10 to 'auto' in 1.4. Set the value of `n_init` explicitly to suppress the warning\n",
      "  super()._check_params_vs_input(X, default_n_init=10)\n"
     ]
    },
    {
     "data": {
      "image/png": "[encoded data removed]",
      "text/plain": [
       "<Figure size 800x500 with 1 Axes>"
      ]
     },
     "metadata": {},
     "output_type": "display_data"
    }
   ],
   "source": [
    "\n",
    "range_n_clusters = range(2, 13)\n",
    "\n",
    "# Calculate the sum of squared distances (SSD) for each number of clusters\n",
    "ssd = [KMeans(n_clusters=k, max_iter=100, random_state=42).fit(df_rfm_scaled).inertia_ for k in range_n_clusters]\n",
    "\n",
    "# Plot the SSDs to find the Elbow\n",
    "plt.figure(figsize=(8, 5))\n",
    "plt.plot(range_n_clusters, ssd, marker='o')\n",
    "plt.xlabel('Number of Clusters')\n",
    "plt.ylabel('SSD (Sum of Squared Distances)')\n",
    "plt.title('Elbow Method for Optimal Clusters')\n",
    "plt.show()\n"
   ]
  },
  {
   "cell_type": "code",
   "execution_count": 43,
   "id": "141ff34d",
   "metadata": {},
   "outputs": [
    {
     "data": {
      "text/html": [
       "<div>\n",
       "<style scoped>\n",
       "    .dataframe tbody tr th:only-of-type {\n",
       "        vertical-align: middle;\n",
       "    }\n",
       "\n",
       "    .dataframe tbody tr th {\n",
       "        vertical-align: top;\n",
       "    }\n",
       "\n",
       "    .dataframe thead th {\n",
       "        text-align: right;\n",
       "    }\n",
       "</style>\n",
       "<table border=\"1\" class=\"dataframe\">\n",
       "  <thead>\n",
       "    <tr style=\"text-align: right;\">\n",
       "      <th></th>\n",
       "      <th>clusters</th>\n",
       "      <th>inertia</th>\n",
       "    </tr>\n",
       "  </thead>\n",
       "  <tbody>\n",
       "    <tr>\n",
       "      <th>0</th>\n",
       "      <td>2</td>\n",
       "      <td>7113.109513</td>\n",
       "    </tr>\n",
       "    <tr>\n",
       "      <th>1</th>\n",
       "      <td>3</td>\n",
       "      <td>5343.136928</td>\n",
       "    </tr>\n",
       "    <tr>\n",
       "      <th>2</th>\n",
       "      <td>4</td>\n",
       "      <td>4481.046493</td>\n",
       "    </tr>\n",
       "    <tr>\n",
       "      <th>3</th>\n",
       "      <td>5</td>\n",
       "      <td>3730.769791</td>\n",
       "    </tr>\n",
       "    <tr>\n",
       "      <th>4</th>\n",
       "      <td>6</td>\n",
       "      <td>3045.029993</td>\n",
       "    </tr>\n",
       "    <tr>\n",
       "      <th>5</th>\n",
       "      <td>7</td>\n",
       "      <td>2598.297835</td>\n",
       "    </tr>\n",
       "    <tr>\n",
       "      <th>6</th>\n",
       "      <td>8</td>\n",
       "      <td>2299.172220</td>\n",
       "    </tr>\n",
       "    <tr>\n",
       "      <th>7</th>\n",
       "      <td>9</td>\n",
       "      <td>2044.782467</td>\n",
       "    </tr>\n",
       "    <tr>\n",
       "      <th>8</th>\n",
       "      <td>10</td>\n",
       "      <td>1853.863670</td>\n",
       "    </tr>\n",
       "    <tr>\n",
       "      <th>9</th>\n",
       "      <td>11</td>\n",
       "      <td>1700.403332</td>\n",
       "    </tr>\n",
       "    <tr>\n",
       "      <th>10</th>\n",
       "      <td>12</td>\n",
       "      <td>1575.619687</td>\n",
       "    </tr>\n",
       "  </tbody>\n",
       "</table>\n",
       "</div>"
      ],
      "text/plain": [
       "    clusters      inertia\n",
       "0          2  7113.109513\n",
       "1          3  5343.136928\n",
       "2          4  4481.046493\n",
       "3          5  3730.769791\n",
       "4          6  3045.029993\n",
       "5          7  2598.297835\n",
       "6          8  2299.172220\n",
       "7          9  2044.782467\n",
       "8         10  1853.863670\n",
       "9         11  1700.403332\n",
       "10        12  1575.619687"
      ]
     },
     "execution_count": 43,
     "metadata": {},
     "output_type": "execute_result"
    }
   ],
   "source": [
    "df_cluster_evaluation = pd.DataFrame({\n",
    "    'clusters': range(2, 13),\n",
    "    'inertia': ssd\n",
    "})\n",
    "\n",
    "df_cluster_evaluation"
   ]
  },
  {
   "cell_type": "code",
   "execution_count": 44,
   "id": "dc2e2dc3",
   "metadata": {},
   "outputs": [
    {
     "name": "stderr",
     "output_type": "stream",
     "text": [
      "E:\\Anaconda\\Lib\\site-packages\\sklearn\\cluster\\_kmeans.py:1412: FutureWarning: The default value of `n_init` will change from 10 to 'auto' in 1.4. Set the value of `n_init` explicitly to suppress the warning\n",
      "  super()._check_params_vs_input(X, default_n_init=10)\n",
      "E:\\Anaconda\\Lib\\site-packages\\sklearn\\cluster\\_kmeans.py:1412: FutureWarning: The default value of `n_init` will change from 10 to 'auto' in 1.4. Set the value of `n_init` explicitly to suppress the warning\n",
      "  super()._check_params_vs_input(X, default_n_init=10)\n",
      "E:\\Anaconda\\Lib\\site-packages\\sklearn\\cluster\\_kmeans.py:1412: FutureWarning: The default value of `n_init` will change from 10 to 'auto' in 1.4. Set the value of `n_init` explicitly to suppress the warning\n",
      "  super()._check_params_vs_input(X, default_n_init=10)\n",
      "E:\\Anaconda\\Lib\\site-packages\\sklearn\\cluster\\_kmeans.py:1412: FutureWarning: The default value of `n_init` will change from 10 to 'auto' in 1.4. Set the value of `n_init` explicitly to suppress the warning\n",
      "  super()._check_params_vs_input(X, default_n_init=10)\n",
      "E:\\Anaconda\\Lib\\site-packages\\sklearn\\cluster\\_kmeans.py:1412: FutureWarning: The default value of `n_init` will change from 10 to 'auto' in 1.4. Set the value of `n_init` explicitly to suppress the warning\n",
      "  super()._check_params_vs_input(X, default_n_init=10)\n",
      "E:\\Anaconda\\Lib\\site-packages\\sklearn\\cluster\\_kmeans.py:1412: FutureWarning: The default value of `n_init` will change from 10 to 'auto' in 1.4. Set the value of `n_init` explicitly to suppress the warning\n",
      "  super()._check_params_vs_input(X, default_n_init=10)\n",
      "E:\\Anaconda\\Lib\\site-packages\\sklearn\\cluster\\_kmeans.py:1412: FutureWarning: The default value of `n_init` will change from 10 to 'auto' in 1.4. Set the value of `n_init` explicitly to suppress the warning\n",
      "  super()._check_params_vs_input(X, default_n_init=10)\n",
      "E:\\Anaconda\\Lib\\site-packages\\sklearn\\cluster\\_kmeans.py:1412: FutureWarning: The default value of `n_init` will change from 10 to 'auto' in 1.4. Set the value of `n_init` explicitly to suppress the warning\n",
      "  super()._check_params_vs_input(X, default_n_init=10)\n",
      "E:\\Anaconda\\Lib\\site-packages\\sklearn\\cluster\\_kmeans.py:1412: FutureWarning: The default value of `n_init` will change from 10 to 'auto' in 1.4. Set the value of `n_init` explicitly to suppress the warning\n",
      "  super()._check_params_vs_input(X, default_n_init=10)\n"
     ]
    },
    {
     "name": "stdout",
     "output_type": "stream",
     "text": [
      "For n_clusters=2, the silhouette score is 0.4413\n",
      "For n_clusters=3, the silhouette score is 0.3815\n",
      "For n_clusters=4, the silhouette score is 0.3623\n",
      "For n_clusters=5, the silhouette score is 0.3648\n",
      "For n_clusters=6, the silhouette score is 0.3441\n",
      "For n_clusters=7, the silhouette score is 0.3430\n",
      "For n_clusters=8, the silhouette score is 0.3354\n",
      "For n_clusters=9, the silhouette score is 0.3466\n",
      "For n_clusters=10, the silhouette score is 0.3557\n"
     ]
    }
   ],
   "source": [
    "from sklearn.metrics import silhouette_score\n",
    "\n",
    "range_n_clusters = range(2, 11)\n",
    "\n",
    "silhouette_scores = [\n",
    "    silhouette_score(df_rfm_scaled, KMeans(n_clusters=k, max_iter=50).fit_predict(df_rfm_scaled))\n",
    "    for k in range_n_clusters\n",
    "]\n",
    "\n",
    "for k, score in zip(range_n_clusters, silhouette_scores):\n",
    "    print(f\"For n_clusters={k}, the silhouette score is {score:.4f}\")\n"
   ]
  },
  {
   "cell_type": "code",
   "execution_count": 45,
   "id": "2974189c",
   "metadata": {},
   "outputs": [
    {
     "name": "stderr",
     "output_type": "stream",
     "text": [
      "E:\\Anaconda\\Lib\\site-packages\\sklearn\\cluster\\_kmeans.py:1412: FutureWarning: The default value of `n_init` will change from 10 to 'auto' in 1.4. Set the value of `n_init` explicitly to suppress the warning\n",
      "  super()._check_params_vs_input(X, default_n_init=10)\n"
     ]
    },
    {
     "data": {
      "text/html": [
       "<style>#sk-container-id-2 {color: black;}#sk-container-id-2 pre{padding: 0;}#sk-container-id-2 div.sk-toggleable {background-color: white;}#sk-container-id-2 label.sk-toggleable__label {cursor: pointer;display: block;width: 100%;margin-bottom: 0;padding: 0.3em;box-sizing: border-box;text-align: center;}#sk-container-id-2 label.sk-toggleable__label-arrow:before {content: \"▸\";float: left;margin-right: 0.25em;color: #696969;}#sk-container-id-2 label.sk-toggleable__label-arrow:hover:before {color: black;}#sk-container-id-2 div.sk-estimator:hover label.sk-toggleable__label-arrow:before {color: black;}#sk-container-id-2 div.sk-toggleable__content {max-height: 0;max-width: 0;overflow: hidden;text-align: left;background-color: #f0f8ff;}#sk-container-id-2 div.sk-toggleable__content pre {margin: 0.2em;color: black;border-radius: 0.25em;background-color: #f0f8ff;}#sk-container-id-2 input.sk-toggleable__control:checked~div.sk-toggleable__content {max-height: 200px;max-width: 100%;overflow: auto;}#sk-container-id-2 input.sk-toggleable__control:checked~label.sk-toggleable__label-arrow:before {content: \"▾\";}#sk-container-id-2 div.sk-estimator input.sk-toggleable__control:checked~label.sk-toggleable__label {background-color: #d4ebff;}#sk-container-id-2 div.sk-label input.sk-toggleable__control:checked~label.sk-toggleable__label {background-color: #d4ebff;}#sk-container-id-2 input.sk-hidden--visually {border: 0;clip: rect(1px 1px 1px 1px);clip: rect(1px, 1px, 1px, 1px);height: 1px;margin: -1px;overflow: hidden;padding: 0;position: absolute;width: 1px;}#sk-container-id-2 div.sk-estimator {font-family: monospace;background-color: #f0f8ff;border: 1px dotted black;border-radius: 0.25em;box-sizing: border-box;margin-bottom: 0.5em;}#sk-container-id-2 div.sk-estimator:hover {background-color: #d4ebff;}#sk-container-id-2 div.sk-parallel-item::after {content: \"\";width: 100%;border-bottom: 1px solid gray;flex-grow: 1;}#sk-container-id-2 div.sk-label:hover label.sk-toggleable__label {background-color: #d4ebff;}#sk-container-id-2 div.sk-serial::before {content: \"\";position: absolute;border-left: 1px solid gray;box-sizing: border-box;top: 0;bottom: 0;left: 50%;z-index: 0;}#sk-container-id-2 div.sk-serial {display: flex;flex-direction: column;align-items: center;background-color: white;padding-right: 0.2em;padding-left: 0.2em;position: relative;}#sk-container-id-2 div.sk-item {position: relative;z-index: 1;}#sk-container-id-2 div.sk-parallel {display: flex;align-items: stretch;justify-content: center;background-color: white;position: relative;}#sk-container-id-2 div.sk-item::before, #sk-container-id-2 div.sk-parallel-item::before {content: \"\";position: absolute;border-left: 1px solid gray;box-sizing: border-box;top: 0;bottom: 0;left: 50%;z-index: -1;}#sk-container-id-2 div.sk-parallel-item {display: flex;flex-direction: column;z-index: 1;position: relative;background-color: white;}#sk-container-id-2 div.sk-parallel-item:first-child::after {align-self: flex-end;width: 50%;}#sk-container-id-2 div.sk-parallel-item:last-child::after {align-self: flex-start;width: 50%;}#sk-container-id-2 div.sk-parallel-item:only-child::after {width: 0;}#sk-container-id-2 div.sk-dashed-wrapped {border: 1px dashed gray;margin: 0 0.4em 0.5em 0.4em;box-sizing: border-box;padding-bottom: 0.4em;background-color: white;}#sk-container-id-2 div.sk-label label {font-family: monospace;font-weight: bold;display: inline-block;line-height: 1.2em;}#sk-container-id-2 div.sk-label-container {text-align: center;}#sk-container-id-2 div.sk-container {/* jupyter's `normalize.less` sets `[hidden] { display: none; }` but bootstrap.min.css set `[hidden] { display: none !important; }` so we also need the `!important` here to be able to override the default hidden behavior on the sphinx rendered scikit-learn.org. See: https://github.com/scikit-learn/scikit-learn/issues/21755 */display: inline-block !important;position: relative;}#sk-container-id-2 div.sk-text-repr-fallback {display: none;}</style><div id=\"sk-container-id-2\" class=\"sk-top-container\"><div class=\"sk-text-repr-fallback\"><pre>KMeans(max_iter=50, n_clusters=3)</pre><b>In a Jupyter environment, please rerun this cell to show the HTML representation or trust the notebook. <br />On GitHub, the HTML representation is unable to render, please try loading this page with nbviewer.org.</b></div><div class=\"sk-container\" hidden><div class=\"sk-item\"><div class=\"sk-estimator sk-toggleable\"><input class=\"sk-toggleable__control sk-hidden--visually\" id=\"sk-estimator-id-2\" type=\"checkbox\" checked><label for=\"sk-estimator-id-2\" class=\"sk-toggleable__label sk-toggleable__label-arrow\">KMeans</label><div class=\"sk-toggleable__content\"><pre>KMeans(max_iter=50, n_clusters=3)</pre></div></div></div></div></div>"
      ],
      "text/plain": [
       "KMeans(max_iter=50, n_clusters=3)"
      ]
     },
     "execution_count": 45,
     "metadata": {},
     "output_type": "execute_result"
    }
   ],
   "source": [
    "kmeans_final = KMeans(n_clusters=3, max_iter=50)\n",
    "kmeans_final.fit(df_rfm_scaled)"
   ]
  },
  {
   "cell_type": "code",
   "execution_count": 46,
   "id": "ec00165f",
   "metadata": {},
   "outputs": [
    {
     "name": "stderr",
     "output_type": "stream",
     "text": [
      "C:\\Users\\DELL\\AppData\\Local\\Temp\\ipykernel_8036\\2155115067.py:1: SettingWithCopyWarning: \n",
      "A value is trying to be set on a copy of a slice from a DataFrame.\n",
      "Try using .loc[row_indexer,col_indexer] = value instead\n",
      "\n",
      "See the caveats in the documentation: https://pandas.pydata.org/pandas-docs/stable/user_guide/indexing.html#returning-a-view-versus-a-copy\n",
      "  rfm_metrics['Cluster_Id'] = kmeans_final.labels_\n"
     ]
    },
    {
     "data": {
      "text/html": [
       "<div>\n",
       "<style scoped>\n",
       "    .dataframe tbody tr th:only-of-type {\n",
       "        vertical-align: middle;\n",
       "    }\n",
       "\n",
       "    .dataframe tbody tr th {\n",
       "        vertical-align: top;\n",
       "    }\n",
       "\n",
       "    .dataframe thead th {\n",
       "        text-align: right;\n",
       "    }\n",
       "</style>\n",
       "<table border=\"1\" class=\"dataframe\">\n",
       "  <thead>\n",
       "    <tr style=\"text-align: right;\">\n",
       "      <th></th>\n",
       "      <th>CustomerID</th>\n",
       "      <th>Recency</th>\n",
       "      <th>Frequency</th>\n",
       "      <th>Monetary</th>\n",
       "      <th>recency_segment</th>\n",
       "      <th>frequency_segment</th>\n",
       "      <th>monetary_segment</th>\n",
       "      <th>rfm_segment</th>\n",
       "      <th>rfm_score</th>\n",
       "      <th>Cluster_Id</th>\n",
       "    </tr>\n",
       "  </thead>\n",
       "  <tbody>\n",
       "    <tr>\n",
       "      <th>0</th>\n",
       "      <td>12346.0</td>\n",
       "      <td>326</td>\n",
       "      <td>2</td>\n",
       "      <td>0.00</td>\n",
       "      <td>oldest</td>\n",
       "      <td>lowest</td>\n",
       "      <td>smallest</td>\n",
       "      <td>oldest-lowest-smallest</td>\n",
       "      <td>3.0</td>\n",
       "      <td>0</td>\n",
       "    </tr>\n",
       "    <tr>\n",
       "      <th>1</th>\n",
       "      <td>12347.0</td>\n",
       "      <td>2</td>\n",
       "      <td>7</td>\n",
       "      <td>4310.00</td>\n",
       "      <td>newest</td>\n",
       "      <td>lowest</td>\n",
       "      <td>smallest</td>\n",
       "      <td>newest-lowest-smallest</td>\n",
       "      <td>7.0</td>\n",
       "      <td>2</td>\n",
       "    </tr>\n",
       "    <tr>\n",
       "      <th>2</th>\n",
       "      <td>12348.0</td>\n",
       "      <td>75</td>\n",
       "      <td>4</td>\n",
       "      <td>1797.24</td>\n",
       "      <td>newest</td>\n",
       "      <td>lowest</td>\n",
       "      <td>smallest</td>\n",
       "      <td>newest-lowest-smallest</td>\n",
       "      <td>7.0</td>\n",
       "      <td>1</td>\n",
       "    </tr>\n",
       "    <tr>\n",
       "      <th>3</th>\n",
       "      <td>12349.0</td>\n",
       "      <td>19</td>\n",
       "      <td>1</td>\n",
       "      <td>1757.55</td>\n",
       "      <td>newest</td>\n",
       "      <td>lowest</td>\n",
       "      <td>smallest</td>\n",
       "      <td>newest-lowest-smallest</td>\n",
       "      <td>7.0</td>\n",
       "      <td>0</td>\n",
       "    </tr>\n",
       "    <tr>\n",
       "      <th>4</th>\n",
       "      <td>12350.0</td>\n",
       "      <td>310</td>\n",
       "      <td>1</td>\n",
       "      <td>334.40</td>\n",
       "      <td>oldest</td>\n",
       "      <td>lowest</td>\n",
       "      <td>smallest</td>\n",
       "      <td>oldest-lowest-smallest</td>\n",
       "      <td>3.0</td>\n",
       "      <td>0</td>\n",
       "    </tr>\n",
       "  </tbody>\n",
       "</table>\n",
       "</div>"
      ],
      "text/plain": [
       "  CustomerID  Recency  Frequency  Monetary recency_segment frequency_segment  \\\n",
       "0    12346.0      326          2      0.00          oldest            lowest   \n",
       "1    12347.0        2          7   4310.00          newest            lowest   \n",
       "2    12348.0       75          4   1797.24          newest            lowest   \n",
       "3    12349.0       19          1   1757.55          newest            lowest   \n",
       "4    12350.0      310          1    334.40          oldest            lowest   \n",
       "\n",
       "  monetary_segment             rfm_segment  rfm_score  Cluster_Id  \n",
       "0         smallest  oldest-lowest-smallest        3.0           0  \n",
       "1         smallest  newest-lowest-smallest        7.0           2  \n",
       "2         smallest  newest-lowest-smallest        7.0           1  \n",
       "3         smallest  newest-lowest-smallest        7.0           0  \n",
       "4         smallest  oldest-lowest-smallest        3.0           0  "
      ]
     },
     "execution_count": 46,
     "metadata": {},
     "output_type": "execute_result"
    }
   ],
   "source": [
    "rfm_metrics['Cluster_Id'] = kmeans_final.labels_\n",
    "rfm_metrics.head()"
   ]
  },
  {
   "cell_type": "code",
   "execution_count": 47,
   "id": "fd7b3cb2",
   "metadata": {},
   "outputs": [
    {
     "data": {
      "image/png": "[encoded data removed]",
      "text/plain": [
       "<Figure size 640x480 with 1 Axes>"
      ]
     },
     "metadata": {},
     "output_type": "display_data"
    }
   ],
   "source": [
    "sns.boxplot(x='Cluster_Id', y='Monetary', data=rfm_metrics);\n"
   ]
  },
  {
   "cell_type": "code",
   "execution_count": 48,
   "id": "96342558",
   "metadata": {},
   "outputs": [
    {
     "data": {
      "image/png": "[encoded data removed]",
      "text/plain": [
       "<Figure size 640x480 with 1 Axes>"
      ]
     },
     "metadata": {},
     "output_type": "display_data"
    }
   ],
   "source": [
    "sns.boxplot(x='Cluster_Id', y='Recency', data=rfm_metrics);\n"
   ]
  },
  {
   "cell_type": "code",
   "execution_count": null,
   "id": "d2d299df",
   "metadata": {},
   "outputs": [],
   "source": []
  },
  {
   "cell_type": "markdown",
   "id": "ca8bdc24",
   "metadata": {},
   "source": [
    "# **Summary:**\n",
    "\n",
    "### From the boxplots above, we can see that our model has effectively segmented customers into three distinct groups, each with specific characteristics:\n",
    "\n",
    "1. **Cluster Id 0**: This group consists of customers who buy infrequently, spend little, and have not made recent purchases. As a result, they are the least valuable to the business.\n",
    "\n",
    "2. **Cluster Id 1**: Customers in this cluster have average scores for recency, frequency, and monetary expenditure. They represent a middle-ground group in terms of engagement and spending.\n",
    "\n",
    "3. **Cluster Id 2**: This cluster includes the most engaged customers who make frequent purchases, spend a lot, and have recently placed orders. They are considered the most valuable to the business."
   ]
  },
  {
   "cell_type": "code",
   "execution_count": null,
   "id": "a80035fe",
   "metadata": {},
   "outputs": [],
   "source": []
  }
 ],
 "metadata": {
  "kernelspec": {
   "display_name": "Python 3 (ipykernel)",
   "language": "python",
   "name": "python3"
  },
  "language_info": {
   "codemirror_mode": {
    "name": "ipython",
    "version": 3
   },
   "file_extension": ".py",
   "mimetype": "text/x-python",
   "name": "python",
   "nbconvert_exporter": "python",
   "pygments_lexer": "ipython3",
   "version": "3.11.5"
  }
 },
 "nbformat": 4,
 "nbformat_minor": 5
}
